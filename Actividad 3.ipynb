{
 "cells": [
  {
   "cell_type": "markdown",
   "id": "f846671c",
   "metadata": {},
   "source": [
    "# Ejercicios acerca del determinante\n",
    "## Desarrollo de Laplace.\n",
    "### Deducir de la definición 4 el determinante en dimensión 0, 1 y 2."
   ]
  },
  {
   "cell_type": "markdown",
   "id": "79c9eec5",
   "metadata": {},
   "source": [
    "#### Dimensión 0\n",
    "\n",
    "En dimensión 0, una matriz es simplemente un escalar, y su determinante es el propio escalar:\n",
    "\n",
    "\\begin{equation}\n",
    "det(a) = a\n",
    "\\end{equation}\n",
    "\n",
    "#### Dimensión 1\n",
    "\n",
    "Una matriz es un solo vector (o escalar). Para un vector $\\mathbb{v_1}$ en $\\mathbb{R}$, el determinante es simplemente el valor absoluto del vector, ya que la única función lineal antisimétrica es la identidad.\n",
    "\n",
    "\\begin{equation}\n",
    "\\det([v_1]) = v_1\n",
    "\\end{equation}\n",
    "\n",
    "#### Dimensión 2\n",
    "En dimensión 2 tenemos una matriz 2x2. Sea $\\mathbb{A}$ una matriz de $\\mathbb{R}^2$:\n",
    "\n",
    "\\begin{equation}\n",
    "A =\n",
    "\\begin{bmatrix}\n",
    "a & b \\\\\n",
    "c & d\n",
    "\\end{bmatrix}\n",
    "\\end{equation}\n",
    "\n",
    "\n",
    "La función lineal antisimetrica que cumple la definición 4 seria:\n",
    "\n",
    "\\begin{equation}\n",
    "det(A) =ad-cd\n",
    "\\end{equation}\n",
    "\n",
    "La matriz identidad de una matriz 2x2 es:\n",
    "\n",
    "\\begin{equation}\n",
    "A =\n",
    "\\begin{bmatrix}\n",
    "1 & 0 \\\\\n",
    "0 & 1\n",
    "\\end{bmatrix}\n",
    "\\end{equation}\n",
    "\n",
    "Por lo que tenemos que el resultado del determinate sera dado por:\n",
    "\n",
    "\\begin{equation}\n",
    "det(A) = 1 \\cdot 1-0 \\cdot 0 = 1\n",
    "\\end{equation}"
   ]
  },
  {
   "cell_type": "markdown",
   "id": "28e4d97d",
   "metadata": {},
   "source": [
    "\n",
    "### A partir de la definición 4, expresar el determinante de una matriz cuadrada recursivamente en función de determinantes la matrices cuadradas de dimensión inferior.\n",
    "Indicación: para cada $n ∈ N$, distribuir (por linealidad en las columnas) sobre la descomposición\n",
    "\n",
    "\\begin{equation}\n",
    "\\begin{bmatrix}\n",
    "\\lambda & \\omega \\\\\n",
    "v & A\n",
    "\\end{bmatrix} = \\begin{bmatrix}\n",
    "\\lambda \\cdot 1 + 0 & \\omega \\\\\n",
    "\\lambda \\cdot 0 + v & A\n",
    "\\end{bmatrix}.\n",
    "\\end{equation}\n",
    "\n",
    "de una matriz cuadrada de dimensión 𝑛 + 1, siendo $n ∈ N$ y \\\n",
    "- $𝜆$ un coeficiente real, \\\n",
    "- $𝑣$ un vector de dimensión 𝑛 (una columna de 𝑛 coeficientes reales), \\\n",
    "- $𝜔$ un covector de la misma dimensión (una fila de 𝑛 coeficientes), \\\n",
    "- $𝐴$ una matriz cuadrada de la misma dimensión (con 𝑛2 coeficientes), \\\n",
    "\n",
    "luego proceder del mismo modo con\\\n",
    "- los demás coeficientes de esa primera columna,\\\n",
    "- con cada columna.\n",
    "\\\n"
   ]
  },
  {
   "cell_type": "markdown",
   "id": "068ec292",
   "metadata": {},
   "source": [
    "**Resolución ejercicio :** \\\n",
    "\n",
    "Diremos que n = 2 por lo que tendremos las siguientes igualdades :\n",
    "\n",
    "\\begin{equation}\n",
    "A =\n",
    "\\begin{bmatrix}\n",
    "a_{11} & a_{12} \\\\\n",
    "a_{21} & a_{22} \\\\\n",
    "\\end{bmatrix}\n",
    "\\end{equation}\n",
    "\n",
    "\\begin{equation}\n",
    "v =\n",
    "\\begin{bmatrix}\n",
    "v_1 \\\\\n",
    "v_2\n",
    "\\end{bmatrix}\n",
    "\\end{equation}\n",
    "\n",
    "\\begin{equation}\n",
    "w =\n",
    "\\begin{bmatrix}\n",
    "w_1 &&\n",
    "w_2\n",
    "\\end{bmatrix}\n",
    "\\end{equation}\n",
    "\n",
    "Usaremos una matriz M de dimensión 3×3 como ejemplo concreto donde estaran los valores $𝜆, 𝑣,  𝜔$ y los valores de A\n",
    "\n",
    "\\begin{equation}\n",
    "M =\n",
    "\\begin{bmatrix}\n",
    "\\lambda & w_1 & w_2 \\\\\n",
    "v_1 & a_{11} & a_{12} \\\\\n",
    "v_2 & a_{21} & a_{22} \\\\\n",
    "\\end{bmatrix}\n",
    "\\end{equation}\n"
   ]
  },
  {
   "cell_type": "markdown",
   "id": "21cb5a24-1402-44a2-bed9-eab21c88a280",
   "metadata": {},
   "source": [
    "**Paso 1: Expansión por Cofactores**\n",
    "\n",
    "Para calcular el determinante de M, vamos a usar cofactores. Esto significa que vamos a descomponer el determinante de la matriz grande en términos de los determinantes de matrices más pequeñas.\n",
    "\n",
    "\\begin{equation}\n",
    "det(M) =\n",
    "\\lambda \\cdot\n",
    "det\n",
    " \\Biggl(\n",
    "\\begin{bmatrix}\n",
    "a_{11} & a_{12} \\\\\n",
    "a_{21} & a_{22} \\\\\n",
    "\\end{bmatrix} \n",
    " \\Biggl)\n",
    "-\n",
    "w_1 \\cdot\n",
    "det\n",
    "\\Biggl(\n",
    "\\begin{bmatrix}\n",
    "v_1 & a_{12} \\\\\n",
    "v_2 & a_{22} \\\\\n",
    "\\end{bmatrix}\n",
    "\\Biggl)\n",
    "+\n",
    "w_2 \\cdot \n",
    "det\n",
    "\\Biggl(\n",
    "\\begin{bmatrix}\n",
    "v_1 & a_{11} \\\\\n",
    "v_2 & a_{21} \\\\\n",
    "\\end{bmatrix} \n",
    "\\Biggl)\n",
    "\\end{equation}"
   ]
  },
  {
   "cell_type": "markdown",
   "id": "8ee2029d-2bd9-4631-9146-752f2ea03a3c",
   "metadata": {},
   "source": [
    "Entonces tenemos 3 sub matrices :\n",
    "\n",
    "\\begin{equation}\n",
    "M_1 =\n",
    "\\begin{bmatrix}\n",
    "a_{11} & a_{12} \\\\\n",
    "a_{21} & a_{22} \\\\\n",
    "\\end{bmatrix}\n",
    "\\end{equation}\n",
    "\n",
    "\\begin{equation}\n",
    "M_2 =\n",
    "\\begin{bmatrix}\n",
    "v_1 & a_{12} \\\\\n",
    "v_2 & a_{22} \\\\\n",
    "\\end{bmatrix}\n",
    "\\end{equation}\n",
    "\n",
    "\\begin{equation}\n",
    "M_3 =\n",
    "\\begin{bmatrix}\n",
    "v_1 & a_{11} \\\\\n",
    "v_2 & a_{21} \\\\\n",
    "\\end{bmatrix}\n",
    "\\end{equation}\n"
   ]
  },
  {
   "cell_type": "markdown",
   "id": "dd4de306-dbc2-4386-a540-3fa12f9744a9",
   "metadata": {},
   "source": [
    "\n",
    "\n",
    "Si simplificamos la ecuación tendríamos que: \n",
    "\n",
    "\n",
    "\\begin{equation}\n",
    "det(M) =\n",
    "\\lambda \\cdot\n",
    "det(A)\n",
    "-\n",
    "w_1 \\cdot det(M_2)\n",
    "+\n",
    "w_2 \\cdot det(M_2)\n",
    "\\end{equation}"
   ]
  },
  {
   "cell_type": "markdown",
   "id": "d713debf",
   "metadata": {},
   "source": [
    "Por tanto tenemos que en n:\n",
    "\n",
    "\\begin{equation}\n",
    "M =\n",
    "\\begin{pmatrix}\n",
    "\\lambda & \\omega_1 & \\omega_2 & \\cdots & \\omega_n \\\\\n",
    "v_1 & a_{11} & a_{12} & \\cdots & a_{1n} \\\\\n",
    "v_2 & a_{21} & a_{22} & \\cdots & a_{2n} \\\\\n",
    "\\vdots & \\vdots & \\vdots & \\ddots & \\vdots \\\\\n",
    "v_n & a_{n1} & a_{n2} & \\cdots & a_{nn}\n",
    "\\end{pmatrix}\n",
    "\\end{equation}\n",
    "\n",
    "El determinante esta dado por:\n",
    "\n",
    "\\begin{equation}\n",
    "det(M) =\n",
    "\\lambda \\cdot\n",
    "det(A)\n",
    "-\n",
    "w_1 \\cdot det(M_1)\n",
    "+\n",
    "w_2 \\cdot det(M_2) ... + (-1)^{1+i} \\cdot w_i \\cdot det(A_i)\n",
    "\\end{equation}\n",
    "\n",
    "Que es similar a decir que:\n",
    "\n",
    "\\begin{equation}\n",
    "\\det\\begin{pmatrix}\n",
    "\\lambda & \\omega \\\\\n",
    "v & A\n",
    "\\end{pmatrix}\n",
    "= \\lambda \\cdot \\det(A) \n",
    "+\n",
    "\\sum_{i=1}^n \\omega_i \\cdot (-1)^{1+i} \\cdot \\det(A_i)\n",
    "\\end{equation}"
   ]
  },
  {
   "cell_type": "markdown",
   "metadata": {},
   "source": [
    "### Implementar en Python la definición así obtenida."
   ]
  },
  {
   "cell_type": "code",
   "execution_count": 1,
   "id": "c62af25a",
   "metadata": {},
   "outputs": [
    {
     "name": "stdout",
     "output_type": "stream",
     "text": [
      "n: 5\n",
      "lambda: 0\n",
      "v: [ 5 -9 -6  7  0]\n",
      "omega: [-5  6 -6 11  1]\n",
      "A:\n",
      "[[  3   6  13   2  -9]\n",
      " [  1  -4   4   1  -5]\n",
      " [ -7   3   1   8   5]\n",
      " [ -2  14   5   1  -3]\n",
      " [ -2 -11   4  12  13]]\n",
      "Matriz compuesta:\n",
      "[[  0  -5   6  -6  11   1]\n",
      " [  5   3   6  13   2  -9]\n",
      " [ -9   1  -4   4   1  -5]\n",
      " [ -6  -7   3   1   8   5]\n",
      " [  7  -2  14   5   1  -3]\n",
      " [  0  -2 -11   4  12  13]]\n",
      "Cofactores:\n",
      "Fórmula simbólica:  0 * det(A) + -5 * (-1)^1 * det(A_1) + 6 * (-1)^2 * det(A_2) + -6 * (-1)^3 * det(A_3) + 11 * (-1)^4 * det(A_4) + 1 * (-1)^5 * det(A_5)\n",
      "Fórmula numérica:  0 * 690.0000000000016 + 140600.00000000006 + -46212.00000000012 + -131280.0000000005 + -336688.00000000093 + 10678.000000000053\n",
      "Determinante: -362902.00000000076\n",
      "Verificacion: -362902.00000000146\n"
     ]
    }
   ],
   "source": [
    "import numpy as np\n",
    "\n",
    "def calcular_determinante_combinado(lambda_val, v, omega, A):\n",
    "    # Convertir las entradas a matrices numpy\n",
    "    v = np.array(v).reshape(-1, 1)\n",
    "    omega = np.array(omega).reshape(1, -1)\n",
    "    A = np.array(A)\n",
    "    \n",
    "    # Construir la matriz combinada\n",
    "    primera_fila = np.hstack(([lambda_val], omega[0]))\n",
    "    resto_filas = np.hstack((v, A))\n",
    "    matriz_combinada = np.vstack((primera_fila, resto_filas))\n",
    "    \n",
    "    print(\"Matriz compuesta:\")\n",
    "    print(matriz_combinada)\n",
    "    \n",
    "    # Calcular el determinante de la matriz combinada\n",
    "    determinante_combinado = np.linalg.det(matriz_combinada)\n",
    "    \n",
    "    # Verificación del determinante según la fórmula\n",
    "    determinante_A = np.linalg.det(A)\n",
    "    suma_terminos = 0\n",
    "    cofactores = []\n",
    "    for i in range(len(omega[0])):\n",
    "        # Crear una submatriz A_i eliminando la primera fila y la columna i\n",
    "        columna_a_eliminar = i + 1;\n",
    "        num_filas, num_columnas = matriz_combinada.shape\n",
    "        A_i = np.delete(matriz_combinada, 0, axis=0)  # Eliminar la primera fila\n",
    "        A_i = np.delete(A_i, columna_a_eliminar, axis=1)  # Eliminar la columna i\n",
    "        #print(f\"(A_{i+1}\")\n",
    "        #print(A_i)\n",
    "        #print(f\"w_{i+1}\", omega[0][i])\n",
    "        cofactor = omega[0][i] * (-1)**(1+i) * np.linalg.det(A_i)\n",
    "        cofactores.append(cofactor)\n",
    "        suma_terminos += cofactor\n",
    "        #print(f\"Cofactor {i+1}: omega[{i}] * (-1)^{1+i} * det(A_{i+1}) = {omega[0][i]} * (-1)^{1+i} * {np.linalg.det(A_i)} = {cofactor}\")\n",
    "    \n",
    "    determinante_verificado = lambda_val * determinante_A + suma_terminos\n",
    "    \n",
    "    # Mostrar cada uno de los cofactores y sus resultados\n",
    "    print(\"Cofactores:\")\n",
    "    \n",
    "    # Mostrar la fórmula completa en números\n",
    "    formula = f\"{lambda_val} * det(A) + \" + \" + \".join([f\"{omega[0][i]} * (-1)^{1+i} * det(A_{i+1})\" for i in range(len(omega[0]))])\n",
    "    formula_numerica = f\"{lambda_val} * {determinante_A} + \" + \" + \".join([str(cofactor) for cofactor in cofactores])\n",
    "    \n",
    "    print(\"Fórmula simbólica: \", formula)\n",
    "    print(\"Fórmula numérica: \", formula_numerica)\n",
    "    \n",
    "    return matriz_combinada, determinante_combinado, determinante_verificado\n",
    "\n",
    "# Ejemplo de uso\n",
    "def generate_random_parameters(inf_lim, sup_lim):\n",
    "\n",
    "    # 1. Generar n como un número entero aleatorio entre 2 y 5\n",
    "    n = np.random.randint(2, 15)\n",
    "    \n",
    "    # 2. Generar lambda como un número entero aleatorio entre -10 y 10\n",
    "    lambda_ = np.random.randint(inf_lim, sup_lim)\n",
    "    \n",
    "    # 3. Generar un vector columna v de dimensión n con valores enteros\n",
    "    v = np.random.randint(inf_lim, sup_lim, n)\n",
    "    \n",
    "    # 4. Generar un covector omega de dimensión n con valores enteros\n",
    "    omega = np.random.randint(inf_lim, sup_lim, n)\n",
    "    \n",
    "    # 5. Generar una matriz cuadrada A de dimensión n x n con valores enteros\n",
    "    A = np.random.randint(inf_lim, sup_lim, (n, n))\n",
    "    \n",
    "    return n, lambda_, v, omega, A\n",
    "\n",
    "n, lambda_, v, omega, A = generate_random_parameters(-11,15)\n",
    "\n",
    "print(\"n:\", n)\n",
    "print(\"lambda:\", lambda_)\n",
    "print(\"v:\", v)\n",
    "print(\"omega:\", omega)\n",
    "print(\"A:\")\n",
    "print(A)\n",
    "\n",
    "matriz_combinada, determinante_combinado, determinante_verificado = calcular_determinante_combinado(lambda_, v, omega, A)\n",
    "\n",
    "print(\"Determinante:\", determinante_combinado)\n",
    "print(\"Verificacion:\", determinante_verificado)\n"
   ]
  },
  {
   "cell_type": "markdown",
   "metadata": {},
   "source": [
    "## Ejercicio 2 : Eliminación de Gauss–Jordan.\n",
    "\n",
    "### Deducir de la definición 4 el efecto que tiene en el determinante de una matriz sumar a una de sus columnas una combinación lineal de las demás.\n"
   ]
  },
  {
   "cell_type": "markdown",
   "id": "c5a78c6e",
   "metadata": {},
   "source": [
    "Para la siguiente deducción, tomamos una matriz A genérica de dimensión 3x3:"
   ]
  },
  {
   "cell_type": "markdown",
   "id": "fdb3dd38",
   "metadata": {},
   "source": [
    "\\begin{equation}\n",
    "A =\n",
    "    \\begin{pmatrix}\n",
    "        a_{11} & a_{12} & a_{13}\\\\\n",
    "        b_{11} & b_{12} & b_{13}\\\\\n",
    "        c_{11} & c_{12} & c_{13}\n",
    "    \\end{pmatrix}\n",
    "\\end{equation}"
   ]
  },
  {
   "cell_type": "markdown",
   "id": "6556ef16",
   "metadata": {},
   "source": [
    "Calculamos el determinante de A aplicando la regla de Sarrus: "
   ]
  },
  {
   "cell_type": "markdown",
   "id": "79ec5745",
   "metadata": {},
   "source": [
    "det(A) =\n",
    "$\\bigl|\\begin{matrix}A\\end{matrix}\\bigr|$ = $\\bigl(\\begin{matrix}a_{11} \\cdot b_{12} \\cdot c_{13}\\end{matrix}\\bigr)$+$\\bigl(\\begin{matrix}a_{12} \\cdot b_{13} \\cdot c_{11}\\end{matrix}\\bigr)$+$\\bigl(\\begin{matrix}a_{13} \\cdot b_{11} \\cdot c_{12}\\end{matrix}\\bigr)$-$\\bigl(\\begin{matrix}c_{11} \\cdot b_{12} \\cdot a_{13}\\end{matrix}\\bigr)$-$\\bigl(\\begin{matrix}c_{12} \\cdot b_{13} \\cdot a_{11}\\end{matrix}\\bigr)$-$\\bigl(\\begin{matrix}c_{13} \\cdot b_{11} \\cdot a_{12}\\end{matrix}\\bigr)$\n"
   ]
  },
  {
   "cell_type": "markdown",
   "id": "5beac300",
   "metadata": {},
   "source": [
    "Ahora construimos una matriz B sumando a la tercera línea una combinación lineal de las otras dos:"
   ]
  },
  {
   "cell_type": "markdown",
   "id": "1f519361",
   "metadata": {},
   "source": [
    "\\begin{equation}\n",
    "B =\n",
    "    \\begin{pmatrix}\n",
    "        a_{11} & a_{12} & a_{13}\\\\\n",
    "        b_{11} & b_{12} & b_{13}\\\\\n",
    "        2a_{11}-b_{11}+c_{11} & 2a_{12}-b_{12}+c_{12} & 2a_{13}-b_{13}+c_{13}\n",
    "    \\end{pmatrix}\n",
    "\\end{equation}"
   ]
  },
  {
   "cell_type": "markdown",
   "id": "97dff919",
   "metadata": {},
   "source": [
    "El determinante de B aplicando la regla de Sarrus es:"
   ]
  },
  {
   "cell_type": "markdown",
   "id": "bb75ffe4",
   "metadata": {},
   "source": [
    "det(B) = \n",
    "$\\bigl|\\begin{matrix}B\\end{matrix}\\bigr|$ = $\\bigl[\\begin{matrix}a_{11} \\cdot b_{12} \\cdot (2a_{13}-b_{13}+c_{13})\\end{matrix}\\bigr]$+$\\bigl[\\begin{matrix}a_{12} \\cdot b_{13} \\cdot (2a_{11}-b_{11}+c_{11})\\end{matrix}\\bigr]$+$\\bigl[\\begin{matrix}a_{13} \\cdot b_{11} \\cdot (2a_{12}-b_{12}+c_{12})\\end{matrix}\\bigr]$-$\\bigl[\\begin{matrix}(2a_{11}-b_{11}+c_{11}) \\cdot b_{12} \\cdot a_{13}\\end{matrix}\\bigr]$-$\\bigl[\\begin{matrix}(2a_{12}-b_{12}+c_{12}) \\cdot b_{13} \\cdot a_{11}\\end{matrix}\\bigr]$-$\\bigl[\\begin{matrix}(2a_{13}-b_{13}+c_{13}) \\cdot b_{11} \\cdot a_{12}\\end{matrix}\\bigr]$\n"
   ]
  },
  {
   "cell_type": "markdown",
   "id": "a3ae3dc9",
   "metadata": {},
   "source": [
    "Operando queda:"
   ]
  },
  {
   "cell_type": "markdown",
   "id": "ff07d023",
   "metadata": {},
   "source": [
    "$\\bigl|\\begin{matrix}B\\end{matrix}\\bigr|$ = $\\bigl(\\begin{matrix}a_{11} & b_{12} \\cdot 2a_{13}\\end{matrix}\\bigr)$-$\\bigl(\\begin{matrix}a_{11} \\cdot b_{12} \\cdot b_{13}\\end{matrix}\\bigr)$+\n",
    "$\\bigl(\\begin{matrix}a_{11} \\cdot b_{12} \\cdot c_{13}\\end{matrix}\\bigr)$+$\\bigl(\\begin{matrix}a_{12} \\cdot b_{13} \\cdot 2a_{11}\\end{matrix}\\bigr)$-\n",
    "$\\bigl(\\begin{matrix}a_{12} \\cdot b_{13} \\cdot b_{11}\\end{matrix}\\bigr)$+$\\bigl(\\begin{matrix}a_{12} \\cdot b_{13} \\cdot c_{11}\\end{matrix}\\bigr)$+\n",
    "$\\bigl(\\begin{matrix}a_{13} \\cdot b_{11} \\cdot 2a_{12}\\end{matrix}\\bigr)$-$\\bigl(\\begin{matrix}a_{13} \\cdot b_{11} \\cdot b_{12}\\end{matrix}\\bigr)$+\n",
    "$\\bigl(\\begin{matrix}a_{13} \\cdot b_{11} \\cdot c_{12}\\end{matrix}\\bigr)$-$\\bigl(\\begin{matrix}2a_{11} \\cdot b_{12} \\cdot a_{13}\\end{matrix}\\bigr)$+\n",
    "$\\bigl(\\begin{matrix}b_{11} \\cdot b_{12} \\cdot a_{13}\\end{matrix}\\bigr)$-$\\bigl(\\begin{matrix}c_{11} \\cdot b_{12} \\cdot a_{13}\\end{matrix}\\bigr)$-\n",
    "$\\bigl(\\begin{matrix}2a_{12} \\cdot b_{13} \\cdot a_{11}\\end{matrix}\\bigr)$+$\\bigl(\\begin{matrix}b_{12} \\cdot b_{13} \\cdot a_{11}\\end{matrix}\\bigr)$-\n",
    "$\\bigl(\\begin{matrix}c_{12} \\cdot b_{13} \\cdot a_{11}\\end{matrix}\\bigr)$-$\\bigl(\\begin{matrix}2a_{13} \\cdot b_{11} \\cdot a_{12}\\end{matrix}\\bigr)$+\n",
    "$\\bigl(\\begin{matrix}b_{13} \\cdot b_{11} \\cdot a_{12}\\end{matrix}\\bigr)$-$\\bigl(\\begin{matrix}c_{13} \\cdot b_{11} \\cdot a_{12}\\end{matrix}\\bigr)$\n"
   ]
  },
  {
   "cell_type": "markdown",
   "id": "9e41129b",
   "metadata": {},
   "source": [
    "A continuación agrupamos los términos:"
   ]
  },
  {
   "cell_type": "markdown",
   "id": "c2a16cf5",
   "metadata": {},
   "source": [
    "$\\bigl|\\begin{matrix}B\\end{matrix}\\bigr|$ = $\\bigl(\\begin{matrix}2a_{13} \\cdot a_{11} \\cdot b_{12}\\end{matrix}\\bigr)$+$\\bigl(\\begin{matrix}2a_{11} \\cdot a_{12} \\cdot b_{13}\\end{matrix}\\bigr)$+\n",
    "$\\bigl(\\begin{matrix}2a_{12} \\cdot a_{13} \\cdot b_{11}\\end{matrix}\\bigr)$-$\\bigl(\\begin{matrix}2a_{11} \\cdot a_{13} \\cdot b_{12}\\end{matrix}\\bigr)$-\n",
    "$\\bigl(\\begin{matrix}2a_{12} \\cdot a_{11} \\cdot b_{13}\\end{matrix}\\bigr)$-$\\bigl(\\begin{matrix}2a_{13} \\cdot a_{12} \\cdot b_{11}\\end{matrix}\\bigr)$-\n",
    "$\\bigl(\\begin{matrix}b_{12} \\cdot b_{13} \\cdot a_{11}\\end{matrix}\\bigr)$-$\\bigl(\\begin{matrix}b_{13} \\cdot b_{11} \\cdot a_{12}\\end{matrix}\\bigr)$-\n",
    "$\\bigl(\\begin{matrix}b_{11} \\cdot b_{12} \\cdot a_{13}\\end{matrix}\\bigr)$+$\\bigl(\\begin{matrix}b_{11} \\cdot b_{12} \\cdot a_{13}\\end{matrix}\\bigr)$+\n",
    "$\\bigl(\\begin{matrix}b_{12} \\cdot b_{13} \\cdot a_{11}\\end{matrix}\\bigr)$+$\\bigl(\\begin{matrix}b_{13} \\cdot b_{11} \\cdot a_{12}\\end{matrix}\\bigr)$+\n",
    "$\\bigl(\\begin{matrix}a_{11} \\cdot b_{12} \\cdot c_{13}\\end{matrix}\\bigr)$+$\\bigl(\\begin{matrix}a_{12} \\cdot b_{13} \\cdot c_{11}\\end{matrix}\\bigr)$+\n",
    "$\\bigl(\\begin{matrix}a_{13} \\cdot b_{11} \\cdot c_{12}\\end{matrix}\\bigr)$-$\\bigl(\\begin{matrix}c_{11} \\cdot b_{12} \\cdot a_{13}\\end{matrix}\\bigr)$-\n",
    "$\\bigl(\\begin{matrix}c_{12} \\cdot b_{13} \\cdot a_{11}\\end{matrix}\\bigr)$-$\\bigl(\\begin{matrix}c_{13} \\cdot b_{11} \\cdot a_{12}\\end{matrix}\\bigr)$\n"
   ]
  },
  {
   "cell_type": "markdown",
   "id": "cdb37e46",
   "metadata": {},
   "source": [
    "$= 2  \\cdot \\bigl[$\n",
    "$\\bigl(\\begin{matrix}a_{13} \\cdot a_{11} \\cdot b_{12}\\end{matrix}\\bigr)$+$\\bigl(\\begin{matrix}a_{11} \\cdot a_{12} \\cdot b_{13}\\end{matrix}\\bigr)$+\n",
    "$\\bigl(\\begin{matrix}a_{12} \\cdot a_{13} \\cdot b_{11}\\end{matrix}\\bigr)$-$\\bigl(\\begin{matrix}a_{11} \\cdot a_{13} \\cdot b_{12}\\end{matrix}\\bigr)$-\n",
    "$\\bigl(\\begin{matrix}a_{12} \\cdot a_{11} \\cdot b_{13}\\end{matrix}\\bigr)$-$\\bigl(\\begin{matrix}a_{13} \\cdot a_{12} \\cdot b_{11}\\end{matrix}\\bigr)\\bigl]$-\n",
    "$\\bigl(\\begin{matrix}b_{12} \\cdot b_{13} \\cdot a_{11}\\end{matrix}\\bigr)$-$\\bigl(\\begin{matrix}b_{13} \\cdot b_{11} \\cdot a_{12}\\end{matrix}\\bigr)$-\n",
    "$\\bigl(\\begin{matrix}b_{11} \\cdot b_{12} \\cdot a_{13}\\end{matrix}\\bigr)$+$\\bigl(\\begin{matrix}b_{11} \\cdot b_{12} \\cdot a_{13}\\end{matrix}\\bigr)$+\n",
    "$\\bigl(\\begin{matrix}b_{12} \\cdot b_{13} \\cdot a_{11}\\end{matrix}\\bigr)$+$\\bigl(\\begin{matrix}b_{13} \\cdot b_{11} \\cdot a_{12}\\end{matrix}\\bigr)$+\n",
    "$\\bigl(\\begin{matrix}a_{11} \\cdot b_{12} \\cdot c_{13}\\end{matrix}\\bigr)$+$\\bigl(\\begin{matrix}a_{12} \\cdot b_{13} \\cdot c_{11}\\end{matrix}\\bigr)$+\n",
    "$\\bigl(\\begin{matrix}a_{13} \\cdot b_{11} \\cdot c_{12}\\end{matrix}\\bigr)$-$\\bigl(\\begin{matrix}c_{11} \\cdot b_{12} \\cdot a_{13}\\end{matrix}\\bigr)$-\n",
    "$\\bigl(\\begin{matrix}c_{12} \\cdot b_{13} \\cdot a_{11}\\end{matrix}\\bigr)$-$\\bigl(\\begin{matrix}c_{13} \\cdot b_{11} \\cdot a_{12}\\end{matrix}\\bigr)$"
   ]
  },
  {
   "cell_type": "markdown",
   "id": "2e9eb400",
   "metadata": {},
   "source": [
    "Operando queda:"
   ]
  },
  {
   "cell_type": "markdown",
   "id": "bc3343a7",
   "metadata": {},
   "source": [
    "$\\bigl|\\begin{matrix}B\\end{matrix}\\bigr|$ = $\\bigl(\\begin{matrix}a_{11} \\cdot b_{12} \\cdot c_{13}\\end{matrix}\\bigr)$+$\\bigl(\\begin{matrix}a_{12} \\cdot b_{13} \\cdot c_{11}\\end{matrix}\\bigr)$+\n",
    "$\\bigl(\\begin{matrix}a_{13} \\cdot b_{11} \\cdot c_{12}\\end{matrix}\\bigr)$-$\\bigl(\\begin{matrix}c_{11} \\cdot b_{12} \\cdot a_{13}\\end{matrix}\\bigr)$-\n",
    "$\\bigl(\\begin{matrix}c_{12} \\cdot b_{13} \\cdot a_{11}\\end{matrix}\\bigr)$-$\\bigl(\\begin{matrix}c_{13} \\cdot b_{11} \\cdot a_{12}\\end{matrix}\\bigr)$ = $\\bigl|\\begin{matrix}A\\end{matrix}\\bigr|$\n",
    "\n",
    "El efecto es que las dos matrices tienen el mismo determinante."
   ]
  },
  {
   "cell_type": "markdown",
   "metadata": {},
   "source": [
    "### A partir de la definición 4, proponer una estrategia para triangularizar una matriz sin cambiar su determinante e implementar en Python una definición alternativa del determinante.\n"
   ]
  },
  {
   "cell_type": "markdown",
   "id": "4470d6b5",
   "metadata": {},
   "source": [
    "La estrategia propuesta es el método de eliminación de Gauss con pivoteo parcial. Consiste en convertir una matriz en una una matriz triangular superior. Este método utiliza operaciones elementales, como intercambio de filas y multiplicación de filas por escalares, para lograr este objetivo."
   ]
  },
  {
   "cell_type": "markdown",
   "id": "619c7b6c",
   "metadata": {},
   "source": [
    "Para ilustrar el método de eliminación de Gauss con pivoteo parcial, consideremos la siguiente\n",
    "matriz de dimensión 3x3:"
   ]
  },
  {
   "cell_type": "markdown",
   "id": "8827f920",
   "metadata": {},
   "source": [
    "\\begin{equation}\n",
    "A =\n",
    "    \\begin{pmatrix}\n",
    "        1 & 2 & 3\\\\\n",
    "        4 & 5 & 6\\\\\n",
    "        7 & 8 & 9\n",
    "    \\end{pmatrix}\n",
    "\\end{equation}"
   ]
  },
  {
   "cell_type": "markdown",
   "id": "4aec4139",
   "metadata": {},
   "source": [
    "Paso 1: Pivoteo parcial para la primera columna:"
   ]
  },
  {
   "cell_type": "markdown",
   "id": "d11f36f6",
   "metadata": {},
   "source": [
    "- Seleccionamos la primera columna como columna pivote y buscamos el elemento de mayor\n",
    "magnitud (valor absoluto) en esa columna. En este caso, el elemento **7** en la tercera fila es el mayor.\n",
    "- Intercambiamos la primera fila con la tercera fila para tener un elemento pivote-mayor (7) en\n",
    "la diagonal principal."
   ]
  },
  {
   "cell_type": "markdown",
   "id": "1785f831",
   "metadata": {},
   "source": [
    "\\begin{equation}\n",
    "A =\n",
    "    \\begin{pmatrix}\n",
    "        7 & 8 & 9\\\\\n",
    "        4 & 5 & 6\\\\\n",
    "        1 & 2 & 3\n",
    "    \\end{pmatrix}\n",
    "\\end{equation}"
   ]
  },
  {
   "cell_type": "markdown",
   "id": "f5d97857",
   "metadata": {},
   "source": [
    "Paso2: Eliminación hacia adelante en la primera columna:"
   ]
  },
  {
   "cell_type": "markdown",
   "id": "7e993dae",
   "metadata": {},
   "source": [
    "Realizamos operaciones elementales para hacer ceros debajo del pivote (7) en la primera columna.\n",
    "- A la segunda fila le sumamos el resultado de multiplicar la primera fila por el factor -$\\frac{4}{7}$\n",
    "- A la tercera fila le sumamos el resultado de multiplicar la primera fila por el factor -$\\frac{1}{7}$\n"
   ]
  },
  {
   "cell_type": "markdown",
   "id": "17b56a85",
   "metadata": {},
   "source": [
    "\\begin{equation}\n",
    "A =\n",
    "    \\begin{pmatrix}\n",
    "        7 & 8 & 9\\\\\n",
    "        4+7\\left (-\\frac{4}{7}\\right)& 5+8\\left (-\\frac{4}{7}\\right) & 6+9\\left (-\\frac{4}{7}\\right)\\\\\n",
    "        1+7\\left (-\\frac{1}{7}\\right) & 2+8\\left (-\\frac{1}{7}\\right) & 3+9\\left (-\\frac{1}{7}\\right)\n",
    "    \\end{pmatrix}\n",
    "\\end{equation}"
   ]
  },
  {
   "cell_type": "markdown",
   "id": "3161bf9c",
   "metadata": {},
   "source": [
    "\\begin{equation}\n",
    "A =\n",
    "    \\begin{pmatrix}\n",
    "        7 & 8 & 9\\\\\n",
    "        0 & 5 -\\frac{32}{7} & 6 -\\frac{36}{7}\\\\\n",
    "        0 & 2 -\\frac{8}{7} & 3 -\\frac{9}{7}\n",
    "    \\end{pmatrix}\n",
    "\\end{equation}"
   ]
  },
  {
   "cell_type": "markdown",
   "id": "fbd7f1ab",
   "metadata": {},
   "source": [
    "\\begin{equation}\n",
    "A =\n",
    "    \\begin{pmatrix}\n",
    "        7 & 8 & 9\\\\\n",
    "        0 & \\frac{3}{7} & \\frac{6}{7}\\\\\n",
    "        0 & \\frac{6}{7} & \\frac{12}{7}\n",
    "    \\end{pmatrix}\n",
    "\\end{equation}"
   ]
  },
  {
   "cell_type": "markdown",
   "id": "4a4911f4",
   "metadata": {},
   "source": [
    "Paso3: Pivoteo parcial para la segunda columna:"
   ]
  },
  {
   "cell_type": "markdown",
   "id": "5f54bbf8",
   "metadata": {},
   "source": [
    "- Seleccionamos la segunda columna como columna pivote y buscamos el elemento de mayor\n",
    "magnitud (valor absoluto) en esa columna a partir de la fila2. En este caso, el elemento $\\frac{6}{7}$ en la tercera fila es el mayor.\n",
    "- Intercambiamos la segunda fila con la tercera fila para tener un elemento pivote mayor"
   ]
  },
  {
   "cell_type": "markdown",
   "id": "b87a5235",
   "metadata": {},
   "source": [
    "\\begin{equation}\n",
    "A =\n",
    "    \\begin{pmatrix}\n",
    "        7 & 8 & 9\\\\\n",
    "        0 & \\frac{6}{7} & \\frac{12}{7}\\\\\n",
    "        0 & \\frac{3}{7} & \\frac{6}{7}\n",
    "    \\end{pmatrix}\n",
    "\\end{equation}"
   ]
  },
  {
   "cell_type": "markdown",
   "id": "22f6cf1d",
   "metadata": {},
   "source": [
    "Paso4: Eliminación hacia adelante en la segunda columna:"
   ]
  },
  {
   "cell_type": "markdown",
   "id": "9d4b3676",
   "metadata": {},
   "source": [
    "Realizamos operaciones elementales anteriores para hacer ceros debajo del pivote en la segunda columna. \n",
    "- A la tercera fila le sumamos el resultado de multiplicar la segunda fila por el factor $-\\frac{3}{6}$"
   ]
  },
  {
   "cell_type": "markdown",
   "id": "1ca874a4",
   "metadata": {},
   "source": [
    "\\begin{equation}\n",
    "A =\n",
    "    \\begin{pmatrix}\n",
    "        7 & 8 & 9\\\\\n",
    "        0 & \\frac{6}{7} & \\frac{12}{7}\\\\\n",
    "        0 & \\frac{3}{7}+\\frac{6}{7} \\left (-\\frac{3}{6}\\right) & \\frac{6}{7}+\\frac{12}{7} \\left (-\\frac{3}{6}\\right)\n",
    "    \\end{pmatrix}\n",
    "\\end{equation}"
   ]
  },
  {
   "cell_type": "markdown",
   "id": "6575b143",
   "metadata": {},
   "source": [
    "\\begin{equation}\n",
    "A =\n",
    "    \\begin{pmatrix}\n",
    "        7 & 8 & 9\\\\\n",
    "        0 & \\frac{6}{7} & \\frac{12}{7}\\\\\n",
    "        0 & \\frac{3}{7}-\\frac{3}{7} & \\frac{6}{7}-\\frac{6}{7}\n",
    "    \\end{pmatrix}\n",
    "\\end{equation}"
   ]
  },
  {
   "cell_type": "markdown",
   "id": "58fe799b",
   "metadata": {},
   "source": [
    "\\begin{equation}\n",
    "A =\n",
    "    \\begin{pmatrix}\n",
    "        7 & 8 & 9\\\\\n",
    "        0 & \\frac{6}{7} & \\frac{12}{7}\\\\\n",
    "        0 & 0 & 0\n",
    "    \\end{pmatrix}\n",
    "\\end{equation}"
   ]
  },
  {
   "cell_type": "markdown",
   "id": "0b81248e",
   "metadata": {},
   "source": [
    "La matriz resultante es una matriz triangular superior, y se ha logrado sin cambiar el determinante significativamente, salvo por el intercambio de filas, que cambia el signo del determinante."
   ]
  },
  {
   "cell_type": "markdown",
   "metadata": {},
   "source": [
    "### Implementar en Python la definición así obtenida"
   ]
  },
  {
   "cell_type": "code",
   "execution_count": 94,
   "id": "c57544a3",
   "metadata": {},
   "outputs": [
    {
     "name": "stdout",
     "output_type": "stream",
     "text": [
      "Matriz triangular superior A:\n",
      "7/1     8/1     9/1    \n",
      "0/1     6/7     12/7    \n",
      "0/1     0/1     0/1    \n",
      "Determinante calculado con algoritmo :  0\n",
      "Determinante calculado con numpy     :  0\n",
      "\n",
      "Matriz triangular superior B:\n",
      "6/1     8/1     9/1    \n",
      "0/1     -20/3     -9/2    \n",
      "0/1     0/1     37/10    \n",
      "Determinante calculado con algoritmo :  148\n",
      "Determinante calculado con numpy     :  148\n"
     ]
    }
   ],
   "source": [
    "import numpy as np\n",
    "from fractions import Fraction\n",
    "\n",
    "def calcular_determinante(matriz: np.ndarray):\n",
    "    \"\"\"\n",
    "    Función que recibe una matriz (lista de listas) y calcula el determinante utilizando el método de pivoteo parcial.\n",
    "    \"\"\"\n",
    "    # Convertir la matriz a tipo Fraction para mantener la precisión\n",
    "    # Convertir la matriz a tipo Fraction para mantener la precisión\n",
    "    matriz = np.vectorize(Fraction)(matriz)\n",
    "\n",
    "    n = matriz.shape[0]\n",
    "    signo = 1\n",
    "    det = 1\n",
    "\n",
    "    for i in range(n):\n",
    "        # Buscar el máximo en la columna actual desde la fila i hasta el final\n",
    "        max_valor_index = i + np.argmax(abs(matriz[i:, i]))\n",
    "        \n",
    "        # Intercambio de filas si el valor no es el primero\n",
    "        if max_valor_index != i:\n",
    "            # Se cambia la fila i por la del valor máximo\n",
    "            matriz[[i, max_valor_index]] = matriz[[max_valor_index, i]]\n",
    "            signo *= -1\n",
    "            \n",
    "        if matriz[i, i] == 0:\n",
    "            return 0, matriz\n",
    "            \n",
    "        # Eliminación por filas hacia adelante de manera vectorizada\n",
    "        pivote = matriz[i, i]\n",
    "        factores = -matriz[i + 1:, i] / pivote\n",
    "        matriz[i + 1:, :] += np.outer(factores, matriz[i, :])\n",
    "\n",
    "    # Calcular el determinante como el producto de los elementos diagonales\n",
    "    det = np.prod(np.diag(matriz))\n",
    "\n",
    "    return int(signo * det), matriz\n",
    "\n",
    "def formato_fraccion(valor):\n",
    "    \"\"\"Función para formatear una fracción como texto 'num/den'.\"\"\"\n",
    "    \n",
    "    #return f\"{valor.numerator}/{valor.denominator}\"\n",
    "    fraccion = f\"{valor.numerator}/{valor.denominator}\"\n",
    "    return fraccion.ljust(len(fraccion) + 4)\n",
    "\n",
    "\n",
    "# Consideremos la siguiente matriz de dimensión 3x3:\n",
    "A = [[1, 2, 3], [4, 5, 6], [7, 8, 9]]\n",
    "det_matriz, matriz_superior = calcular_determinante(A)\n",
    "\n",
    "# Convertir la matriz superior a formato de fracciones para impresión\n",
    "matriz_superior_fracciones = np.vectorize(formato_fraccion)(matriz_superior)\n",
    "\n",
    "print(\"Matriz triangular superior A:\")\n",
    "print(\"\\n\".join(\" \".join(fila) for fila in matriz_superior_fracciones))\n",
    "print(\"Determinante calculado con algoritmo : \", det_matriz)\n",
    "print(\"Determinante calculado con numpy     : \", round(np.linalg.det(A)))\n",
    "print()\n",
    "\n",
    "# Consideremos la siguiente matriz de dimensión 3x3:\n",
    "B = [[6, 8, 9], [1, 4, 7], [5, 0, 3]]\n",
    "det_matriz, matriz_superior = calcular_determinante(B)\n",
    "\n",
    "# Convertir la matriz superior a formato de fracciones para impresión\n",
    "matriz_superior_fracciones = np.vectorize(formato_fraccion)(matriz_superior)\n",
    "\n",
    "print(\"Matriz triangular superior B:\")\n",
    "print(\"\\n\".join(\" \".join(fila) for fila in matriz_superior_fracciones))\n",
    "print(\"Determinante calculado con algoritmo : \", det_matriz)\n",
    "print(\"Determinante calculado con numpy     : \", round(np.linalg.det(B)))"
   ]
  },
  {
   "cell_type": "markdown",
   "id": "f001f766",
   "metadata": {},
   "source": [
    "**___Conclusión :___**"
   ]
  },
  {
   "cell_type": "markdown",
   "id": "039a458d",
   "metadata": {},
   "source": [
    "_Los resultados obtenidos al calcular el determinante de las matrices A y B utilizando el método de pivoteo parcial coinciden exactamente con los obtenidos mediante la función np.linalg.det de numpy. Esto valida la eficacia del método de triangularización para matrices, que permite calcular el determinante sin alterar su valor. Este enfoque es especialmente útil cuando se requiere mantener la precisión numérica utilizando fracciones en lugar de números de punto flotante._"
   ]
  },
  {
   "cell_type": "markdown",
   "metadata": {},
   "source": [
    "## Ejercicio 3: Comparación.\n",
    "\n",
    "### Obtener la complejidad computacional de cada una de estas dos implementaciones.\n"
   ]
  },
  {
   "cell_type": "markdown",
   "id": "06a01fad",
   "metadata": {},
   "source": [
    "- Calcular complejidad computacional ejercicio: Determinante Matriz Combinada \n",
    "   \n",
    "   - Función **generate_random_parameters(inf_lim, sup_lim)**:\\\n",
    "      Tiene complejidad computacional **O(n²)** dado que las líneas que generan vectores y matrices (puntos 3, 4 y 5) tienen complejidades O(n) y O(n²), respectivamente, y el resto de las líneas O(1), la complejidad total del código está dominada por la generación de la matriz 'A', es decir **O(n²)**.\n",
    "      \n",
    "\n",
    "   - Función **calcular_determinante_combinado(lambda_val, v, omega, A)**:\\\n",
    "      La función tiene la siguiente estructura:\n",
    "      - Construcción de la matriz combinada:\n",
    "      Tiene un costo de O(n), donde n es el tamaño del vector v y la matriz A (asumiendo que omega tiene la misma longitud que v).\n",
    "      - Cálculo del determinante de la matriz combinada:\n",
    "      Utilizando np.linalg.det, el costo es $O(n³)$ en el peor de los casos para matrices cuadradas.\n",
    "      - Cálculo de los cofactores:\n",
    "      Se realiza un ciclo for de tamaño n (el tamaño de omega).\n",
    "      Dentro del ciclo, se calcula el determinante de una submatriz de tamaño (n-1) x (n-1), con un costo de $O((n-1)³)$.\n",
    "      \n",
    "      Por lo tanto, el costo de calcular los cofactores es $O(n * (n-1)³)$, que es equivalente a $O(n⁴)$.\n",
    "      Verificación del determinante:\n",
    "      Tiene un costo de O(n), ya que se realiza una suma de n términos.\n",
    "   \n",
    "   >_\"La complejidad computacional total del código es $O(n⁴)$, lo que significa que el tiempo de ejecución crece con la cuarta potencia del tamaño de la matriz. Este es un tiempo de ejecución relativamente alto, especialmente para matrices grandes.\"_"
   ]
  },
  {
   "cell_type": "markdown",
   "id": "e5e35064",
   "metadata": {},
   "source": [
    "- Calcular complejidad computacional ejercicio: Determinante de una Matriz utilizando el método de pivoteo parcial\n",
    "   \n",
    "   - Función **calcular_determinante(matriz)**:\\\n",
    "      Está función realiza las siguientes operaciones: \n",
    "      - Vectorización y conversión a fracciones, se realiza una vectorización de la matriz para convertirla en tipo **'fraction'**, la cual tiene una complejidad de O(n²) en donde n indica el tamaño de la matriz.\n",
    "      - Iteraciones, el algoritmo itera sobre cada fila i de la matriz y en cada iteración:\n",
    "         - Busca el máximo en la columna actual hasta el final, lo cual tiene una complejidad de O(n-i)\n",
    "         - Realiza un intercambio de filas si es necesario, lo cual es una operación O(n).\n",
    "         - Realiza una eliminación por filas hacia adelante, que implica operaciones vectorizadas que pueden ser aproximadamente O((n -i)²).\n",
    "      - Calcular el determinante, después de triangular la matriz, se calcula el determinante como el producto de los elementos diagonales, lo cual es una operación O(n).\n",
    "\n",
    "   >_\"Dado que el algoritmo realiza operaciones principalmente sobre una matriz cuadrada de tamaño nxn la complejidad total puede aproximarse a O(n)³. Esto se debe a que las operaciones de búsqueda del máximo y eliminación por filas son operaciones cuadráticas dentro de un bucle n veces.\"_"
   ]
  },
  {
   "cell_type": "markdown",
   "metadata": {},
   "source": [
    "### Generar matrices aleatoriamente en dimensión $n ∈$ { 2, 3, · · , 9, 10 } y comparar el tiempo de ejecución de cada una de estas dos implementaciones con la función numpy.linalg.det (la función determinante de la extensión numérica de Python al álgebra lineal). Indicación: se puede utilizar la función numpy.random.rand para generar los coeficientes aleatorios de sus matrices."
   ]
  },
  {
   "cell_type": "code",
   "execution_count": 95,
   "id": "557d1de5",
   "metadata": {},
   "outputs": [],
   "source": [
    "import numpy as np\n",
    "import timeit"
   ]
  },
  {
   "cell_type": "code",
   "execution_count": 96,
   "id": "28d692ca",
   "metadata": {},
   "outputs": [],
   "source": [
    "\n",
    "def det_laplace(matriz: np.ndarray) -> float:\n",
    "  \"\"\"Calcula el determinante de una matriz usando la regla de Laplace.\n",
    "    \n",
    "    Parameters\n",
    "    ----------\n",
    "        matriz: Es la matriz n x n para la cual se calcula el determinante\n",
    "\n",
    "    Returns\n",
    "    -------\n",
    "    float\n",
    "        El determinante de la matriz\n",
    "  \"\"\"\n",
    "\n",
    "  n = len(matriz)\n",
    "  \n",
    "  if n == 1:\n",
    "    return matriz[0][0]\n",
    "  elif n == 2:\n",
    "    return matriz[0][0] * matriz[1][1] - matriz[0][1] * matriz[1][0]\n",
    "  else:\n",
    "    det = 0\n",
    "    for j in range(n):\n",
    "      submatriz = np.delete(np.delete(matriz, 0, axis=0), j, axis=1)\n",
    "      det += (-1) ** j * matriz[0][j] * det_laplace(submatriz)\n",
    "    return det\n",
    "\n",
    "\n",
    "def det_gauss_jordan(matriz: np.ndarray) -> float:\n",
    "  \"\"\"Calcula el determinante de una matriz usando el método de eliminación de Gauss-Jordan.\n",
    "    \n",
    "    Parameters\n",
    "    ----------\n",
    "        matriz: Es la matriz n x n para la cual se calcula el determinante\n",
    "\n",
    "    Returns\n",
    "    -------\n",
    "    float\n",
    "        El determinante de la matriz\n",
    "  \"\"\"\n",
    "\n",
    "  n = len(matriz)\n",
    "  det = 1\n",
    "\n",
    "  for i in range(n):\n",
    "    pivot = matriz[i][i]\n",
    "    if pivot == 0:\n",
    "      return 0\n",
    "    \n",
    "    det  *= pivot\n",
    "    matriz[i] /= pivot\n",
    "\n",
    "    for j in range(i+1, n):\n",
    "      factor = matriz[j][i]\n",
    "      matriz[j]  -= factor * matriz[i]\n",
    "  return det"
   ]
  },
  {
   "cell_type": "code",
   "execution_count": 97,
   "id": "a153eb34",
   "metadata": {},
   "outputs": [
    {
     "name": "stdout",
     "output_type": "stream",
     "text": [
      "Dimensión | T.Laplace (ms) | T.Gauss-Jordan (ms) | T.numpy.linalg.det (ms)\n",
      "---------------------------------------------------------------------------\n",
      "2         | 0.011021       | 0.040960            | 0.046467\n",
      "3         | 0.114820       | 0.045672            | 0.042871\n",
      "4         | 0.390938       | 0.067282            | 0.037821\n",
      "5         | 2.464395       | 0.092947            | 0.058323\n",
      "6         | 14.373713      | 0.117725            | 0.039186\n",
      "7         | 92.178981      | 0.147262            | 0.038534\n",
      "8         | 727.794312     | 0.178852            | 0.044963\n",
      "9         | 6274.807835    | 0.233912            | 0.039860\n",
      "10        | 63215.603985   | 0.211654            | 0.045628\n"
     ]
    }
   ],
   "source": [
    "print(\"Dimensión\".ljust(10) + \"| T.Laplace (ms)\".ljust(17) + \"| T.Gauss-Jordan (ms)\".ljust(22) + \"| T.numpy.linalg.det (ms)\")\n",
    "print(\"-\" * 75)\n",
    "\n",
    "# Genera matrices aleatorias de tamaño n x n\n",
    "for n in range(2, 11):\n",
    "  A = np.random.rand(n, n)\n",
    "\n",
    "  # Calcula el tiempo de ejecución para cada algoritmo\n",
    "  laplace_time = timeit.timeit(lambda: det_laplace(A), number=1) * 1000\n",
    "  gauss_jordan_time = timeit.timeit(lambda: det_gauss_jordan(A), number=1)  * 1000\n",
    "  numpy_time = timeit.timeit(lambda: np.linalg.det(A), number=1)  * 1000\n",
    "\n",
    "  print(f\"{str(n).ljust(9)} | {format(laplace_time, '.6f').ljust(14)} | {format(gauss_jordan_time, '.6f').ljust(19)} | {format(numpy_time, '.6f')}\")\n",
    "  \n",
    "  "
   ]
  },
  {
   "cell_type": "markdown",
   "id": "bc792a82",
   "metadata": {},
   "source": [
    "**___Conclusión___:**"
   ]
  },
  {
   "cell_type": "markdown",
   "id": "979c9905",
   "metadata": {},
   "source": [
    "_\"Como podemos observar el tiempo de ejecución en **np.linalg.det** de **numpy** es mucho más eficiente que el tiempo que tardan en ejecutarse los algoritmos planteados para calcular el determinante con la función : det_laplace y det_gauss_jordan.\"_"
   ]
  },
  {
   "cell_type": "markdown",
   "metadata": {},
   "source": [
    "# Ejercicios acerca del gradiente\n",
    "\n",
    "## Ejercicio 4 : Método descenso del gradiente\n",
    "Con el propósito de aproximar un mínimo local de una función real de varias variables reales, el método de descenso de gradiente consiste en iterar una marcha (positivamente) proporcional al (opuesto del) gradiente desde un valor inicial, con la intuición de ‘seguir el agua’ hasta dar con el valle.\n",
    "\n",
    "### Implementar en Python un algoritmo de descenso del gradiente (con un máximo de m = $10⁵$ iteraciones) a partir de los siguientes argumentos tomados en ese orden:\n",
    "\n",
    "- la función f cuyo mínimo local se propone aproximar,\\\n",
    "- el valor inicial x desde el que empieza la marcha,\\\n",
    "- la razón geométrica o coeficiente de proporcionalidad y,\\\n",
    "- el parámetro de tolerancia z para finalizar cuando el gradiente de la función f caiga dentro de esa tolerancia.\\\n",
    "\n",
    "Indicación: empezar por implementar el gradiente grad(f) de la función f.\\\n"
   ]
  },
  {
   "cell_type": "code",
   "execution_count": 5,
   "id": "26a5bf50",
   "metadata": {},
   "outputs": [],
   "source": [
    "import numpy as np\n",
    "\n",
    "def gradiente(f, x, h=1e-8):\n",
    "    \"\"\"\n",
    "    Aproximación del gradiente de f en el punto x usando diferencias finitas.\n",
    "\n",
    "    f: La función de la cual se va a calcular el gradiente.\n",
    "    x: El punto en el cual se va a calcular el gradiente.\n",
    "    h: Un pequeño incremento para calcular las diferencias finitas.\n",
    "    return: El gradiente de f en x.\n",
    "    \"\"\"\n",
    "    n = len(x)\n",
    "    gradiente = np.zeros(n)\n",
    "    for i in range(n):\n",
    "        x0 = np.copy(x)\n",
    "        x1 = np.copy(x)\n",
    "        x1[i] += h\n",
    "        gradiente[i] = (f(x1) - f(x0)) / h\n",
    "    return gradiente\n",
    "\n",
    "def descenso_gradiente(f, x0, tasa_aprendizaje, tolerancia, max_iter=10**5):\n",
    "    \"\"\"\n",
    "    Algoritmo de descenso de gradiente para encontrar el mínimo de una función f.\n",
    "\n",
    "    :param f: La función cuyo mínimo local se desea encontrar.\n",
    "    :param x0: El punto inicial desde donde comienza la búsqueda.\n",
    "    :param tasa_aprendizaje: La razón geométrica o coeficiente de proporcionalidad.\n",
    "    :param tolerancia: El parámetro de tolerancia para finalizar cuando el gradiente de f esté dentro de esa tolerancia.\n",
    "    :param max_iter: El número máximo de iteraciones.\n",
    "    :return: El punto que minimiza la función f.\n",
    "    \"\"\"\n",
    "    x = x0\n",
    "    for i in range(max_iter):\n",
    "        grad = gradiente(f, x)\n",
    "        if np.linalg.norm(grad) < tolerancia:\n",
    "            print(f\"Convergió después de {i} iteraciones.\")\n",
    "            return x\n",
    "        x = x - tasa_aprendizaje * grad\n",
    "    print(f\"Alcanzó el máximo de iteraciones ({max_iter}) sin convergencia.\")\n",
    "    return x"
   ]
  },
  {
   "cell_type": "code",
   "execution_count": 6,
   "id": "cf3bca5e",
   "metadata": {},
   "outputs": [
    {
     "name": "stdout",
     "output_type": "stream",
     "text": [
      "Convergió después de 0 iteraciones.\n",
      "Punto mínimo encontrado: [10 10]\n"
     ]
    }
   ],
   "source": [
    "# Ejemplo de uso:\n",
    "# Definimos una función cuadrática simple para demostrar el descenso de gradiente.\n",
    "def f(x):\n",
    "    return x[0]**2 + x[1]**2\n",
    "\n",
    "# Punto inicial\n",
    "x0 = np.array([10, 10])\n",
    "# Razón geométrica o coeficiente de proporcionalidad\n",
    "tasa_aprendizaje = 0.1\n",
    "# Tolerancia\n",
    "tolerancia = 1e-6\n",
    "\n",
    "# Ejecutar el descenso de gradiente\n",
    "punto_minimo = descenso_gradiente(f, x0, tasa_aprendizaje, tolerancia)\n",
    "print(\"Punto mínimo encontrado:\", punto_minimo)"
   ]
  },
  {
   "cell_type": "markdown",
   "metadata": {},
   "source": [
    "### Calcular formalmente $\\{ 𝑡 ∈ R.  𝑓 ′(𝑡) = 0 \\}$ para $𝑓 : 𝑡 ↦ 3𝑡⁴+4𝑡³−12𝑡²+7$."
   ]
  },
  {
   "cell_type": "markdown",
   "id": "8de12ea8",
   "metadata": {},
   "source": [
    "Para resolver este problema, primero necesitamos calcular la derivada de la función $( f(t) = 3t^4 + 4t^3 - 12t^2 + 7 )$ y luego encontrar los puntos donde la derivada es igual a cero. Estos puntos son los candidatos para los mínimos y máximos locales de la función.\n",
    "\n",
    "Vamos a proceder paso a paso:\n",
    "\n",
    "1. Calcular la derivada de \\( f(t) \\).\n",
    "2. Encontrar los puntos donde la derivada es igual a cero.\n",
    "3. Utilizar la función de descenso de gradiente modificada para encontrar estos puntos.\n",
    "\n",
    "<br>\n",
    "\n",
    "**- Calcular la derivada de $( f(t) )$**\n",
    "\n",
    "La derivada de $( f(t) )$ es:\n",
    "\n",
    "$[ f'(t) = \\frac{d}{dt}(3t^4 + 4t^3 - 12t^2 + 7) = 12t^3 + 12t^2 - 24t ]$\n",
    "\n",
    "<br>\n"
   ]
  },
  {
   "cell_type": "markdown",
   "id": "7ed87923",
   "metadata": {},
   "source": [
    "**- Encontrar los puntos donde la derivada es igual a cero**\n",
    "\n",
    "Queremos encontrar los puntos $( t )$ donde $( f'(t) = 0 )$. Esto se traduce en resolver la ecuación:\n",
    "\n",
    "$[ 12t^3 + 12t^2 - 24t = 0 ]$\n",
    "\n",
    "Podemos factorizar esta ecuación:\n",
    "\n",
    "$[ 12t(t^2 + t - 2) = 0 ]$\n",
    "\n",
    "Esta factorización da tres posibles soluciones:\n",
    "\n",
    "$[ 12t = 0 \\quad \\text{o} \\quad t^2 + t - 2 = 0 ]$\n",
    "\n",
    "Resolviendo estas ecuaciones:\n",
    "\n",
    "1. $( 12t = 0 )$ nos da $( t = 0 )$.\n",
    "2. $( t^2 + t - 2 = 0 )$ se puede resolver usando la fórmula cuadrática:\n",
    "\n",
    "$[ t = \\frac{-1 \\pm \\sqrt{1^2 - 4 \\cdot 1 \\cdot (-2)}}{2 \\cdot 1} = \\frac{-1 \\pm \\sqrt{1 + 8}}{2} = \\frac{-1 \\pm 3}{2} ]$\n",
    "\n",
    "Esto nos da dos soluciones:\n",
    "\n",
    "$[ t = 1 \\quad \\text{y} \\quad t = -2 ]$\n",
    "\n",
    "Por lo tanto, los puntos donde $( f'(t) = 0 )$ son $( t = 0 ), ( t = 1 )$, y $( t = -2 )$.\n",
    "\n",
    "\n",
    "\n"
   ]
  },
  {
   "cell_type": "markdown",
   "id": "700cb0a4",
   "metadata": {},
   "source": [
    "**- Implementación en Python de la función descenso de gradiente modificada para encontrar estos puntos**"
   ]
  },
  {
   "cell_type": "code",
   "execution_count": 7,
   "id": "93b1540e",
   "metadata": {},
   "outputs": [
    {
     "name": "stdout",
     "output_type": "stream",
     "text": [
      "Convergió después de 0 iteraciones.\n",
      "Raíz encontrada: 0\n",
      "Convergió después de 0 iteraciones.\n",
      "Raíz encontrada: 1\n",
      "Convergió después de 0 iteraciones.\n",
      "Raíz encontrada: -2\n",
      "Todas las raíces: [0, 1, -2]\n"
     ]
    }
   ],
   "source": [
    "import numpy as np\n",
    "\n",
    "# Derivada de la función f(t)\n",
    "def f_prima(t):\n",
    "    return 12*t**3 + 12*t**2 - 24*t\n",
    "\n",
    "# Descenso de gradiente adaptado para encontrar raíces de la derivada\n",
    "def descenso_gradiente_raices(f_prima, x0, tasa_aprendizaje, tolerancia, max_iter=10**5):\n",
    "    x = x0\n",
    "    for i in range(max_iter):\n",
    "        gradiente = f_prima(x)\n",
    "        if abs(gradiente) < tolerancia:\n",
    "            print(f\"Convergió después de {i} iteraciones.\")\n",
    "            return x\n",
    "        x = x - tasa_aprendizaje * gradiente\n",
    "    print(f\"Alcanzó el máximo de iteraciones ({max_iter}) sin convergencia.\")\n",
    "    return x\n",
    "\n",
    "# Parámetros para el descenso de gradiente\n",
    "tasa_aprendizaje = 0.01\n",
    "tolerancia = 1e-6\n",
    "\n",
    "# Puntos iniciales para encontrar las raíces de la derivada\n",
    "puntos_iniciales = [0, 1, -2]\n",
    "\n",
    "# Ejecutar el descenso de gradiente para cada punto inicial\n",
    "raices = []\n",
    "for x0 in puntos_iniciales:\n",
    "    raiz = descenso_gradiente_raices(f_prima, x0, tasa_aprendizaje, tolerancia)\n",
    "    raices.append(raiz)\n",
    "    print(f\"Raíz encontrada: {raiz}\")\n",
    "\n",
    "print(\"Todas las raíces:\", raices)\n"
   ]
  },
  {
   "cell_type": "markdown",
   "id": "d0007e01",
   "metadata": {},
   "source": [
    "1. **Función `f_prima`**: Calcula la derivada de \\( f(t) \\).\n",
    "2. **Función `descenso_gradiente_raices`**: Aplica el descenso de gradiente para encontrar las raíces de la derivada de la función.\n",
    "3. **Parámetros para el descenso de gradiente**: Definimos la tasa de aprendizaje y la tolerancia.\n",
    "4. **Puntos iniciales**: Usamos los puntos \\( t = 0 \\), \\( t = 1 \\), y \\( t = -2 \\) como puntos de partida para verificar las raíces.\n",
    "5. **Ejecutar el descenso de gradiente**: Para cada punto inicial, ejecutamos el descenso de gradiente y almacenamos los resultados."
   ]
  },
  {
   "cell_type": "markdown",
   "metadata": {},
   "source": [
    "### Con una tolerancia $z = 10⁻¹²$ y un valor inicial de $x = 3$ aplicar su algoritmo con razón $y = 10⁻¹$, $10⁻²$, $10⁻³$ luego hacer lo mismo con $x = 0$. Interpretar el resultado.\n"
   ]
  },
  {
   "cell_type": "markdown",
   "id": "6daef730",
   "metadata": {},
   "source": [
    "Para abordar este ejercicio, vamos a aplicar el algoritmo de descenso de gradiente a la función $( f(t) = 3t^4 + 4t^3 - 12t^2 + 7 )$ utilizando diferentes tasas de aprendizaje $(\\text{learning rates})$ y dos puntos iniciales: $( x = 3 )$ y $( x = 0 )$. Utilizaremos una tolerancia de $( z = 10^{-12} )$.\n",
    "\n",
    "Primero, recordemos la derivada de la función:\n",
    "\n",
    "$[ f'(t) = 12t^3 + 12t^2 - 24t. ]$\n",
    "\n",
    "<br>"
   ]
  },
  {
   "cell_type": "markdown",
   "id": "0d91dc70",
   "metadata": {},
   "source": [
    "**2.1.3.1 Implementación del Algoritmo**\n",
    "\n",
    "Vamos a implementar el descenso de gradiente para encontrar las raíces de $( f'(t) )$ utilizando las tasas de aprendizaje dadas. Luego, interpretaremos los resultados para $( x = 3 )$ y $( x = 0 )$."
   ]
  },
  {
   "cell_type": "code",
   "execution_count": 8,
   "id": "819f835a",
   "metadata": {},
   "outputs": [],
   "source": [
    "import numpy as np\n",
    "\n",
    "# Derivada de la función f(t)\n",
    "def f_prime(t):\n",
    "    return 12*t**3 + 12*t**2 - 24*t\n",
    "\n",
    "# Descenso de gradiente adaptado para encontrar raíces de la derivada\n",
    "def descenso_gradiente_raices(f_prime, x0, tasa_aprendizaje, tolerancia, max_iter=10**5):\n",
    "    x = x0\n",
    "    for i in range(max_iter):\n",
    "        gradiente = f_prime(x)\n",
    "        if abs(gradiente) < tolerancia:\n",
    "            print(f\"Convergió después de {i} iteraciones.\")\n",
    "            return x\n",
    "        x = x - tasa_aprendizaje * gradiente\n",
    "        \n",
    "        # Verificación de límites para prevenir overflow\n",
    "        if abs(x) > 1e10:\n",
    "            print(f\"El valor de x = {x} se volvió demasiado grande en la iteración {i}.\")\n",
    "            return None\n",
    "        \n",
    "    print(f\"Alcanzó el máximo de iteraciones ({max_iter}) sin convergencia.\")\n",
    "    return x\n"
   ]
  },
  {
   "cell_type": "markdown",
   "id": "6f74626e",
   "metadata": {},
   "source": [
    "<br>\n",
    "\n",
    "**2.1.3.2 Aplicación del Algoritmo**\n",
    "\n",
    "- **Valor inicial** $( x = 3 )$\n",
    "- **Tasa de aprendizaje** $( y = 10^{-1} )$"
   ]
  },
  {
   "cell_type": "code",
   "execution_count": 9,
   "id": "5329cd20",
   "metadata": {},
   "outputs": [
    {
     "name": "stdout",
     "output_type": "stream",
     "text": [
      "Comenzando en x = 3 con tasa de aprendizaje = 0.1\n",
      "El valor de x = -87049951065956.78 se volvió demasiado grande en la iteración 2.\n",
      "No se encontró una raíz dentro de los límites permitidos.\n"
     ]
    }
   ],
   "source": [
    "# Parámetros\n",
    "tolerancia = 1e-12\n",
    "punto_inicial = 3\n",
    "tasa_aprendizaje = 0.1\n",
    "\n",
    "print(f\"Comenzando en x = {punto_inicial} con tasa de aprendizaje = {tasa_aprendizaje}\")\n",
    "raiz = descenso_gradiente_raices(f_prime, punto_inicial, tasa_aprendizaje, tolerancia)\n",
    "if raiz is not None:\n",
    "    print(f\"Raíz encontrada: {raiz}\\n\")\n",
    "else:\n",
    "    print(\"No se encontró una raíz dentro de los límites permitidos.\")\n"
   ]
  },
  {
   "cell_type": "markdown",
   "id": "1c5a126d",
   "metadata": {},
   "source": [
    "**Interpretación**:\n",
    "\n",
    "La tasa de aprendizaje $( y = 10^{-1} )$ es demasiado alta. Esto hace que las actualizaciones en x sean muy grandes, causando que los valores se vuelvan extremadamente grandes en poco tiempo, lo que lleva a un desbordamiento numérico. Este es un claro ejemplo de cómo una tasa de aprendizaje demasiado grande puede desestabilizar el algoritmo de descenso de gradiente.\n",
    "<br><br>\n",
    "\n",
    "- **Valor inicial** $( x = 3 )$\n",
    "- **Tasa de aprendizaje** $y=10^{-2}$"
   ]
  },
  {
   "cell_type": "code",
   "execution_count": 10,
   "id": "661a9769",
   "metadata": {},
   "outputs": [
    {
     "name": "stdout",
     "output_type": "stream",
     "text": [
      "Comenzando en x = 3 con tasa de aprendizaje = 0.01\n",
      "Convergió después de 31 iteraciones.\n",
      "Raíz encontrada: -1.9999999999999882\n",
      "\n"
     ]
    }
   ],
   "source": [
    "# Parámetros\n",
    "tasa_aprendizaje = 0.01\n",
    "\n",
    "print(f\"Comenzando en x = {punto_inicial} con tasa de aprendizaje = {tasa_aprendizaje}\")\n",
    "raiz = descenso_gradiente_raices(f_prime, punto_inicial, tasa_aprendizaje, tolerancia)\n",
    "print(f\"Raíz encontrada: {raiz}\\n\")\n"
   ]
  },
  {
   "cell_type": "markdown",
   "id": "0fe94848",
   "metadata": {},
   "source": [
    "**Interpretación**:\n",
    "\n",
    "Con una tasa de aprendizaje de $( y = 10^{-2} )$, el algoritmo es más estable y converge rápidamente a una raíz cercana a $-2$. Este valor es uno de los puntos donde la derivada de la función original es cero, lo que indica un mínimo o máximo local."
   ]
  },
  {
   "cell_type": "markdown",
   "id": "3dbac80a",
   "metadata": {},
   "source": [
    "- **Valor inicial** $( x = 3 )$\n",
    "- **Tasa de aprendizaje** $y=10^{-3}$"
   ]
  },
  {
   "cell_type": "code",
   "execution_count": 11,
   "id": "4b4bb3c6",
   "metadata": {},
   "outputs": [
    {
     "name": "stdout",
     "output_type": "stream",
     "text": [
      "Comenzando en x = 3 con tasa de aprendizaje = 0.001\n",
      "Convergió después de 831 iteraciones.\n",
      "Raíz encontrada: 1.0000000000000275\n",
      "\n"
     ]
    }
   ],
   "source": [
    "# Parámetros\n",
    "tasa_aprendizaje = 0.001\n",
    "\n",
    "print(f\"Comenzando en x = {punto_inicial} con tasa de aprendizaje = {tasa_aprendizaje}\")\n",
    "raiz = descenso_gradiente_raices(f_prime, punto_inicial, tasa_aprendizaje, tolerancia)\n",
    "print(f\"Raíz encontrada: {raiz}\\n\")\n"
   ]
  },
  {
   "cell_type": "markdown",
   "id": "e647622e",
   "metadata": {},
   "source": [
    "**Interpretación**:\n",
    "\n",
    "Con una tasa de aprendizaje aún más pequeña, $( y = 10^{-3} )$, el algoritmo converge de manera más lenta (requiriendo $831$ iteraciones). Sin embargo, alcanza un punto cercano a $1$, que es otro punto donde la derivada de la función original es cero. Esto demuestra que una tasa de aprendizaje más pequeña puede llevar a una mayor precisión, aunque a costa de más iteraciones."
   ]
  },
  {
   "cell_type": "markdown",
   "id": "7748b9de",
   "metadata": {},
   "source": [
    "- **Valor inicial** $x = 0$\n",
    "- **Tasa de aprendizaje** $y = 10^{-2}$"
   ]
  },
  {
   "cell_type": "code",
   "execution_count": 12,
   "id": "6f5c0a30",
   "metadata": {},
   "outputs": [
    {
     "name": "stdout",
     "output_type": "stream",
     "text": [
      "Comenzando en x = 0 con tasa de aprendizaje = 0.1\n",
      "Convergió después de 0 iteraciones.\n",
      "Raíz encontrada: 0\n",
      "\n"
     ]
    }
   ],
   "source": [
    "# Parámetros\n",
    "punto_inicial = 0\n",
    "tasa_aprendizaje = 0.1\n",
    "\n",
    "print(f\"Comenzando en x = {punto_inicial} con tasa de aprendizaje = {tasa_aprendizaje}\")\n",
    "raiz = descenso_gradiente_raices(f_prime, punto_inicial, tasa_aprendizaje, tolerancia)\n",
    "print(f\"Raíz encontrada: {raiz}\\n\")\n"
   ]
  },
  {
   "cell_type": "markdown",
   "id": "ee5ae077",
   "metadata": {},
   "source": [
    "**Interpretación**:\n",
    "\n",
    "Al comenzar en $( x = 0 )$, el valor inicial ya es un punto donde la derivada de la función es cero. No se necesitan iteraciones adicionales porque 0 es una raíz de la derivada. Esto muestra que el algoritmo detecta correctamente que ya está en un punto estacionario."
   ]
  },
  {
   "cell_type": "markdown",
   "id": "c677ac94",
   "metadata": {},
   "source": [
    "<br>\n",
    "\n",
    "**Tasa de aprendizaje** $y=10^{-1}$"
   ]
  },
  {
   "cell_type": "code",
   "execution_count": 13,
   "id": "9dbe36b7",
   "metadata": {},
   "outputs": [
    {
     "name": "stdout",
     "output_type": "stream",
     "text": [
      "Comenzando en x = 0 con tasa de aprendizaje = 0.01\n",
      "Convergió después de 0 iteraciones.\n",
      "Raíz encontrada: 0\n",
      "\n"
     ]
    }
   ],
   "source": [
    "# Parámetros\n",
    "tasa_aprendizaje = 0.01\n",
    "\n",
    "print(f\"Comenzando en x = {punto_inicial} con tasa de aprendizaje = {tasa_aprendizaje}\")\n",
    "raiz = descenso_gradiente_raices(f_prime, punto_inicial, tasa_aprendizaje, tolerancia)\n",
    "print(f\"Raíz encontrada: {raiz}\\n\")\n"
   ]
  },
  {
   "cell_type": "markdown",
   "id": "fb9b8668",
   "metadata": {},
   "source": [
    "**Interpretación**:\n",
    "\n",
    "Igual que con $( y = 10^{-1} )$, el algoritmo reconoce que el punto inicial x = 0 ya es una raíz de la derivada. No se requieren actualizaciones adicionales."
   ]
  },
  {
   "cell_type": "markdown",
   "id": "241fd547",
   "metadata": {},
   "source": [
    "**Tasa de aprendizaje** $y=10^{-3}$"
   ]
  },
  {
   "cell_type": "code",
   "execution_count": 14,
   "id": "e800de37",
   "metadata": {},
   "outputs": [
    {
     "name": "stdout",
     "output_type": "stream",
     "text": [
      "Comenzando en x = 0 con tasa de aprendizaje = 0.001\n",
      "Convergió después de 0 iteraciones.\n",
      "Raíz encontrada: 0\n",
      "\n"
     ]
    }
   ],
   "source": [
    "# Parámetros\n",
    "tasa_aprendizaje = 0.001\n",
    "\n",
    "print(f\"Comenzando en x = {punto_inicial} con tasa de aprendizaje = {tasa_aprendizaje}\")\n",
    "raiz = descenso_gradiente_raices(f_prime, punto_inicial, tasa_aprendizaje, tolerancia)\n",
    "print(f\"Raíz encontrada: {raiz}\\n\")\n"
   ]
  },
  {
   "cell_type": "markdown",
   "id": "6f8a5520",
   "metadata": {},
   "source": [
    "**Interpretación**:\n",
    "\n",
    "Nuevamente, al comenzar en $x = 0$, el valor inicial ya es una raíz de la derivada. La tasa de aprendizaje no afecta el resultado en este caso porque no se necesitan iteraciones adicionales."
   ]
  },
  {
   "cell_type": "markdown",
   "id": "5f97a538",
   "metadata": {},
   "source": [
    "**2.1.3.3 Conclusión General**\n",
    "\n",
    "- **Tasa de aprendizaje grande**: Puede llevar a desbordamientos numéricos o a oscilaciones alrededor de la raíz, como se observa con $( y = 10^{-1} )$ cuando el valor inicial es $( x = 3 )$.\n",
    "- **Tasa de aprendizaje moderada**: Proporciona un equilibrio entre velocidad y estabilidad, permitiendo una convergencia rápida y precisa, como se observa con $( y = 10^{-2} )$ cuando el valor inicial es $( x = 3 )$.\n",
    "- **Tasa de aprendizaje pequeña**: Garantiza una alta precisión, aunque a costa de un mayor número de iteraciones, como se observa con $( y = 10^{-3} )$ cuando el valor inicial es $( x = 3 )$.\n",
    "- **Valor inicial en la raíz**: Si el valor inicial es ya una raíz como $( x = 0 )$, el algoritmo converge instantáneamente sin necesidad de iteraciones adicionales.\n",
    "\n",
    "Estos resultados ilustran cómo la elección de la tasa de aprendizaje y el punto inicial pueden influir significativamente en el comportamiento y eficiencia del algoritmo de descenso de gradiente."
   ]
  },
  {
   "cell_type": "markdown",
   "metadata": {},
   "source": [
    "### [Repetir estos dos últimos apartados con $𝑓 : (𝑠, 𝑡) ↦ 𝑠² + 3𝑠𝑡 + 𝑡³ + 1$ y los valores iniciales x = [-1,1], [0,0].]"
   ]
  },
  {
   "cell_type": "markdown",
   "id": "a8d728aa",
   "metadata": {},
   "source": [
    "<br>\n",
    "\n",
    "**2.1.4.1: Calcular formalmente ${ (s, t) ∈ R^{2} | f(s, t) = 0 }$**\n",
    "<br>\n",
    "\n",
    "La función dada es:\n",
    "$[ f(s, t) = s^2 + 3st + t^3 + 1 ]$\n",
    "\n",
    "El gradiente de $( f(s, t) )$ es:\n",
    "$[ \\nabla f(s, t) = \\left( \\frac{\\partial f}{\\partial s}, \\frac{\\partial f}{\\partial t} \\right) ]$\n",
    "\n",
    "Calculando las derivadas parciales:\n",
    "\n",
    "$[ \\frac{\\partial f}{\\partial s} = 2s + 3t ]$\n",
    "$[ \\frac{\\partial f}{\\partial t} = 3s + 3t^2 ]$\n",
    "\n",
    "Queremos encontrar los puntos donde el gradiente es cero:\n",
    "\n",
    "$[ 2s + 3t = 0 ]$\n",
    "\n",
    "$[ 3s + 3t^2 = 0 ]$\n",
    "\n",
    "Resolviendo estas ecuaciones simultáneamente:\n",
    "\n",
    "1. De la primera ecuación:\n",
    "$[ 2s + 3t = 0 \\implies s = -\\frac{3}{2}t ]$\n",
    "\n",
    "2. Sustituyendo $( s = -\\frac{3}{2}t )$ en la segunda ecuación:\n",
    "\n",
    "- $[ 3\\left(-\\frac{3}{2}t\\right) + 3t^2 = 0 ]$\n",
    "- $[ -\\frac{9}{2}t + 3t^2 = 0 ]$\n",
    "- $[ t(3t - \\frac{9}{2}) = 0 ]$\n",
    "- $[ t = 0 \\text{ o } t = \\frac{3}{2} ]$\n",
    "\n",
    "<br>\n",
    "\n",
    "Para $( t = 0 )$:\n",
    "$[ s = 0 ]$\n",
    "\n",
    "Para $( t = \\frac{3}{2} )$:\n",
    "$[ s = -\\frac{3}{2} \\left(\\frac{3}{2}\\right) = -\\frac{9}{4} ]$\n",
    "\n",
    "<br>\n",
    "\n",
    "Entonces, los puntos críticos son:\n",
    "$[ (0, 0) ]$\n",
    "$[ \\left(-\\frac{9}{4}, \\frac{3}{2}\\right) ]$\n",
    "\n",
    "<br>"
   ]
  },
  {
   "cell_type": "markdown",
   "id": "e08121ab",
   "metadata": {},
   "source": [
    "**2.1.4.2 Aplicar el algoritmo de descenso de gradiente**"
   ]
  },
  {
   "cell_type": "code",
   "execution_count": 15,
   "id": "d147bfed",
   "metadata": {},
   "outputs": [],
   "source": [
    "import numpy as np\n",
    "\n",
    "# Gradiente de la función f(s, t)\n",
    "def gradiente_f(st):\n",
    "    s, t = st\n",
    "    df_ds = 2 * s + 3 * t\n",
    "    df_dt = 3 * s + 3 * t**2\n",
    "    return np.array([df_ds, df_dt])\n",
    "\n",
    "# Descenso de gradiente adaptado para encontrar raíces del gradiente\n",
    "def descenso_gradiente_raices(grad_f, x0, tasa_aprendizaje, tolerancia, max_iter=10**5):\n",
    "    x = np.array(x0, dtype=float)\n",
    "    for i in range(max_iter):\n",
    "        grad = grad_f(x)\n",
    "        if np.linalg.norm(grad) < tolerancia:\n",
    "            print(f\"Convergió después de {i} iteraciones.\")\n",
    "            return x\n",
    "        x = x - tasa_aprendizaje * grad\n",
    "    print(f\"Alcanzó el máximo de iteraciones ({max_iter}) sin convergencia.\")\n",
    "    return x\n"
   ]
  },
  {
   "cell_type": "markdown",
   "id": "040c3b2a",
   "metadata": {},
   "source": [
    "- **Valor inicial $[-1, 1]$**\n",
    "- **Tasa de aprendizaje $( y = 10^{-1} )$**"
   ]
  },
  {
   "cell_type": "code",
   "execution_count": 16,
   "id": "1819ea4f",
   "metadata": {},
   "outputs": [
    {
     "name": "stdout",
     "output_type": "stream",
     "text": [
      "Comenzando en x = [-1, 1] con tasa de aprendizaje = 0.1\n",
      "Convergió después de 302 iteraciones.\n",
      "Raíz encontrada: [-2.25  1.5 ]\n",
      "\n"
     ]
    }
   ],
   "source": [
    "# Parámetros\n",
    "tolerancia = 1e-12\n",
    "punto_inicial = [-1, 1]\n",
    "tasa_aprendizaje = 0.1\n",
    "\n",
    "print(f\"Comenzando en x = {punto_inicial} con tasa de aprendizaje = {tasa_aprendizaje}\")\n",
    "raiz = descenso_gradiente_raices(gradiente_f, punto_inicial, tasa_aprendizaje, tolerancia)\n",
    "print(f\"Raíz encontrada: {raiz}\\n\")"
   ]
  },
  {
   "cell_type": "markdown",
   "id": "ba81801f",
   "metadata": {},
   "source": [
    "**Interpretación**:\n",
    "\n",
    "La tasa de aprendizaje de $0.1$ es moderada, permitiendo que el algoritmo converja razonablemente rápido a la raíz $([-2.25, 1.5])$. Este punto es una de las soluciones donde el gradiente de la función es cero. El número de iteraciones es relativamente bajo, lo que indica una buena convergencia con esta tasa de aprendizaje."
   ]
  },
  {
   "cell_type": "markdown",
   "id": "870ce262",
   "metadata": {},
   "source": [
    "- **Valor inicial $[-1, 1]$**\n",
    "- **Tasa de aprendizaje $( y = 10^{-2} )$**"
   ]
  },
  {
   "cell_type": "code",
   "execution_count": 17,
   "id": "dd50f041",
   "metadata": {},
   "outputs": [
    {
     "name": "stdout",
     "output_type": "stream",
     "text": [
      "Comenzando en x = [-1, 1] con tasa de aprendizaje = 0.01\n",
      "Convergió después de 3139 iteraciones.\n",
      "Raíz encontrada: [-2.25  1.5 ]\n",
      "\n"
     ]
    }
   ],
   "source": [
    "# Parámetros\n",
    "tasa_aprendizaje = 0.01\n",
    "\n",
    "print(f\"Comenzando en x = {punto_inicial} con tasa de aprendizaje = {tasa_aprendizaje}\")\n",
    "raiz = descenso_gradiente_raices(gradiente_f, punto_inicial, tasa_aprendizaje, tolerancia)\n",
    "print(f\"Raíz encontrada: {raiz}\\n\")"
   ]
  },
  {
   "cell_type": "markdown",
   "id": "638b86d0",
   "metadata": {},
   "source": [
    "**Interpretación**:\n",
    "\n",
    "Con una tasa de aprendizaje de $0.01$, el algoritmo converge más lentamente que con una tasa de 0.1, pero aún llega a la misma raíz $([-2.25, 1.5])$. El número de iteraciones es significativamente mayor debido a la menor tasa de aprendizaje, lo que resulta en pasos más pequeños hacia la convergencia."
   ]
  },
  {
   "cell_type": "markdown",
   "id": "a7d7ab41",
   "metadata": {},
   "source": [
    "- **Valor inicial $[-1, 1]$**\n",
    "- **Tasa de aprendizaje** $( y = 10^{-3} )$"
   ]
  },
  {
   "cell_type": "code",
   "execution_count": 18,
   "id": "96ee4212",
   "metadata": {},
   "outputs": [
    {
     "name": "stdout",
     "output_type": "stream",
     "text": [
      "Comenzando en x = [-1, 1] con tasa de aprendizaje = 0.001\n",
      "Convergió después de 31558 iteraciones.\n",
      "Raíz encontrada: [-2.25  1.5 ]\n",
      "\n"
     ]
    }
   ],
   "source": [
    "# Parámetros\n",
    "tasa_aprendizaje = 0.001\n",
    "\n",
    "print(f\"Comenzando en x = {punto_inicial} con tasa de aprendizaje = {tasa_aprendizaje}\")\n",
    "raiz = descenso_gradiente_raices(gradiente_f, punto_inicial, tasa_aprendizaje, tolerancia)\n",
    "print(f\"Raíz encontrada: {raiz}\\n\")"
   ]
  },
  {
   "cell_type": "markdown",
   "id": "ea6437f0",
   "metadata": {},
   "source": [
    "**Interpretación**:\n",
    "Con una tasa de aprendizaje aún más pequeña de $0.001$, el algoritmo requiere muchas más iteraciones para converger a la misma raíz $([-2.25, 1.5])$. Esto demuestra que una tasa de aprendizaje muy baja resulta en una convergencia muy lenta, aunque sigue siendo precisa."
   ]
  },
  {
   "cell_type": "markdown",
   "id": "f1493c0f",
   "metadata": {},
   "source": [
    "- **Valor inicial** $([0, 0])$\n",
    "- **Tasa de aprendizaje** $( y = 10^{-1} )$"
   ]
  },
  {
   "cell_type": "code",
   "execution_count": 19,
   "id": "38e109bb",
   "metadata": {},
   "outputs": [
    {
     "name": "stdout",
     "output_type": "stream",
     "text": [
      "Comenzando en x = [0, 0] con tasa de aprendizaje = 0.1\n",
      "Convergió después de 0 iteraciones.\n",
      "Raíz encontrada: [0. 0.]\n",
      "\n"
     ]
    }
   ],
   "source": [
    "# Parámetros\n",
    "punto_inicial = [0, 0]\n",
    "tasa_aprendizaje = 0.1\n",
    "\n",
    "print(f\"Comenzando en x = {punto_inicial} con tasa de aprendizaje = {tasa_aprendizaje}\")\n",
    "raiz = descenso_gradiente_raices(gradiente_f, punto_inicial, tasa_aprendizaje, tolerancia)\n",
    "print(f\"Raíz encontrada: {raiz}\\n\")"
   ]
  },
  {
   "cell_type": "markdown",
   "id": "9042f2ab",
   "metadata": {},
   "source": [
    "**Interpretación**:\n",
    "\n",
    "El valor inicial $([0, 0])$ ya es un punto donde el gradiente de la función es cero. Por lo tanto, el algoritmo no necesita realizar ninguna iteración adicional para encontrar la raíz. Esto muestra que el punto inicial ya es una solución, independientemente de la tasa de aprendizaje."
   ]
  },
  {
   "cell_type": "markdown",
   "id": "e56f5fc0",
   "metadata": {},
   "source": [
    "- **Valor inicial** $([0, 0])$\n",
    "- **Tasa de aprendizaje** $( y = 10^{-2} )$"
   ]
  },
  {
   "cell_type": "code",
   "execution_count": 20,
   "id": "887a9426",
   "metadata": {},
   "outputs": [
    {
     "name": "stdout",
     "output_type": "stream",
     "text": [
      "Comenzando en x = [0, 0] con tasa de aprendizaje = 0.01\n",
      "Convergió después de 0 iteraciones.\n",
      "Raíz encontrada: [0. 0.]\n",
      "\n"
     ]
    }
   ],
   "source": [
    "# Parámetros\n",
    "tasa_aprendizaje = 0.01\n",
    "\n",
    "print(f\"Comenzando en x = {punto_inicial} con tasa de aprendizaje = {tasa_aprendizaje}\")\n",
    "raiz = descenso_gradiente_raices(gradiente_f, punto_inicial, tasa_aprendizaje, tolerancia)\n",
    "print(f\"Raíz encontrada: {raiz}\\n\")"
   ]
  },
  {
   "cell_type": "markdown",
   "id": "23f9c8d6",
   "metadata": {},
   "source": [
    "**Interpretación**:\n",
    "\n",
    "Igual que con la tasa de $0.1$, el algoritmo reconoce que el punto inicial $[0, 0])$ ya es una raíz de la función, por lo que no se requieren iteraciones adicionales."
   ]
  },
  {
   "cell_type": "markdown",
   "id": "83f4f816",
   "metadata": {},
   "source": [
    "- **Valor inicial** $([0, 0])$\n",
    "- **Tasa de aprendizaje** $( y = 10^{-3} )$"
   ]
  },
  {
   "cell_type": "code",
   "execution_count": 21,
   "id": "66d15c54",
   "metadata": {},
   "outputs": [
    {
     "name": "stdout",
     "output_type": "stream",
     "text": [
      "Comenzando en x = [0, 0] con tasa de aprendizaje = 0.001\n",
      "Convergió después de 0 iteraciones.\n",
      "Raíz encontrada: [0. 0.]\n",
      "\n"
     ]
    }
   ],
   "source": [
    "# Parámetros\n",
    "tasa_aprendizaje = 0.001\n",
    "\n",
    "print(f\"Comenzando en x = {punto_inicial} con tasa de aprendizaje = {tasa_aprendizaje}\")\n",
    "raiz = descenso_gradiente_raices(gradiente_f, punto_inicial, tasa_aprendizaje, tolerancia)\n",
    "print(f\"Raíz encontrada: {raiz}\\n\")"
   ]
  },
  {
   "cell_type": "markdown",
   "id": "3b4e9d61",
   "metadata": {},
   "source": [
    "**Interpretación**:\n",
    "\n",
    "Al igual que con las tasas de aprendizaje mayores, el punto inicial $([0, 0])$ ya es una raíz, y el algoritmo no necesita realizar iteraciones adicionales."
   ]
  },
  {
   "cell_type": "markdown",
   "id": "eac13868",
   "metadata": {},
   "source": [
    "**2.1.4.3 Conclusión General**\n",
    "\n",
    "- **Tasa de aprendizaje y valor inicial $[-1, 1]$**:\n",
    "  - Una tasa de aprendizaje mayor (0.1) permite una convergencia más rápida con menos iteraciones.\n",
    "  - Una tasa de aprendizaje moderada (0.01) resulta en una convergencia más lenta pero estable.\n",
    "  - Una tasa de aprendizaje muy pequeña (0.001) lleva a una convergencia extremadamente lenta, aunque precisa.\n",
    "  - Todos convergen a la misma raíz \\([-2.25, 1.5]\\), que es un punto crítico de la función.\n",
    "\n",
    "- **Tasa de aprendizaje y valor inicial $[0, 0]$**:\n",
    "  - El valor inicial \\([0, 0]\\) ya es un punto crítico donde el gradiente es cero.\n",
    "  - Independientemente de la tasa de aprendizaje, el algoritmo reconoce inmediatamente que está en la raíz y no realiza iteraciones adicionales.\n",
    "  - Esto muestra que cuando el punto inicial es ya un punto crítico, la tasa de aprendizaje no influye en el resultado.\n",
    "\n",
    "Estos resultados ilustran cómo la elección de la tasa de aprendizaje afecta la velocidad de convergencia del algoritmo de descenso de gradiente y cómo los puntos críticos iniciales pueden simplificar la convergencia."
   ]
  }
 ],
 "metadata": {
  "authors": [
   {
    "name": "Jonathan Mora"
   },
   {
    "name": "Luis Jama Tello"
   },
   {
    "name": "Blanca Santos Fernández"
   },
   {
    "name": "Laura Betancourt Leal"
   }
  ],
  "date": "",
  "kernelspec": {
   "display_name": "Python 3 (ipykernel)",
   "language": "python",
   "name": "python3"
  },
  "language_info": {
   "codemirror_mode": {
    "name": "ipython",
    "version": 3
   },
   "file_extension": ".py",
   "mimetype": "text/x-python",
   "name": "python",
   "nbconvert_exporter": "python",
   "pygments_lexer": "ipython3",
   "version": "3.9.16"
  },
  "title": ""
 },
 "nbformat": 4,
 "nbformat_minor": 5
}
