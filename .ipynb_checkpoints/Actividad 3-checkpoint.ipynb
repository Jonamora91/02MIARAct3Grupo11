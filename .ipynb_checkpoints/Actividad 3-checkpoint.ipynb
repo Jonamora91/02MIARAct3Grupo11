{
 "cells": [
  {
   "cell_type": "markdown",
   "id": "0df395d4-ea46-4f89-806e-6af7b195ea19",
   "metadata": {},
   "source": [
    "# Actividad  #3\n",
    "## 1. Ejercicios acerca del determinante\n",
    "### Ejercicio 1 (2 puntos). Desarrollo de Laplace.\n",
    "#### 1. Deducir de la definición 4 el determinante en dimensión 0, 1 y 2."
   ]
  },
  {
   "cell_type": "markdown",
   "id": "9ec881d2",
   "metadata": {},
   "source": [
    "#### Dimensión 0\n",
    "\n",
    "En dimensión 0, una matriz es simplemente un escalar, y su determinante es el propio escalar:\n",
    "\n",
    "\\begin{equation}\n",
    "det(a) = a\n",
    "\\end{equation}\n",
    "\n",
    "#### Dimensión 1\n",
    "\n",
    "Una matriz es un solo vector (o escalar). Para un vector $\\mathbb{v_1}$ en $\\mathbb{R}$, el determinante es simplemente el valor absoluto del vector, ya que la única función lineal antisimétrica es la identidad.\n",
    "\n",
    "\\begin{equation}\n",
    "\\det([v_1]) = v_1\n",
    "\\end{equation}\n",
    "\n",
    "#### Dimensión 2\n",
    "En dimensión 2 tenemos una matriz 2x2. Sea $\\mathbb{A}$ una matriz de $\\mathbb{R}^2$:\n",
    "\n",
    "\\begin{equation}\n",
    "A =\n",
    "\\begin{bmatrix}\n",
    "a & b \\\\\n",
    "c & d\n",
    "\\end{bmatrix}\n",
    "\\end{equation}\n",
    "\n",
    "\n",
    "La función lineal antisimetrica que cumple la definición 4 seria:\n",
    "\n",
    "\\begin{equation}\n",
    "det(A) =ad-cd\n",
    "\\end{equation}\n",
    "\n",
    "La matriz identidad de una matriz 2x2 es:\n",
    "\n",
    "\\begin{equation}\n",
    "A =\n",
    "\\begin{bmatrix}\n",
    "1 & 0 \\\\\n",
    "0 & 1\n",
    "\\end{bmatrix}\n",
    "\\end{equation}\n",
    "\n",
    "Por lo que tenemos que el resultado del determinate sera dado por:\n",
    "\n",
    "\\begin{equation}\n",
    "det(A) = 1 \\cdot 1-0 \\cdot 0 = 1\n",
    "\\end{equation}"
   ]
  },
  {
   "cell_type": "markdown",
   "id": "58a20eb3",
   "metadata": {},
   "source": [
    "\n",
    "#### 2. A partir de la definición 4, expresar el determinante de una matriz cuadrada recursivamente en función de determinantes la matrices cuadradas de dimensión inferior.\n",
    "Indicación: para cada 𝑛 ∈ N, distribuir (por linealidad en las columnas) sobre la descomposición\n",
    "\n",
    "\\begin{equation}\n",
    "\\begin{bmatrix}\n",
    "\\lambda & \\omega \\\\\n",
    "v & A\n",
    "\\end{bmatrix} = \\begin{bmatrix}\n",
    "\\lambda \\cdot 1 + 0 & \\omega \\\\\n",
    "\\lambda \\cdot 0 + v & A\n",
    "\\end{bmatrix}.\n",
    "\\end{equation}\n",
    "\n",
    "de una matriz cuadrada de dimensión 𝑛 + 1, siendo 𝑛 ∈ N y \n",
    "- 𝜆 un coeficiente real, \n",
    "- 𝑣 un vector de dimensión 𝑛 (una columna de 𝑛 coeficientes reales), \n",
    "- 𝜔 un covector de la misma dimensión (una fila de 𝑛 coeficientes), \n",
    "- 𝐴 una matriz cuadrada de la misma dimensión (con 𝑛2 coeficientes),\n",
    "\n",
    "  \n",
    "luego proceder del mismo modo con \n",
    "- los demás coeficientes de esa primera columna, \n",
    "- con cada columna.\n"
   ]
  },
  {
   "cell_type": "markdown",
   "id": "53a5a8c0",
   "metadata": {},
   "source": [
    "Diremos que n = 2\n",
    "\n",
    "Por lo que A quedaria de la siguiente forma\n",
    "\n",
    "\\begin{equation}\n",
    "A =\n",
    "\\begin{bmatrix}\n",
    "a_11 & a_12 \\\\\n",
    "a_21 & a_22 \\\\\n",
    "\\end{bmatrix}\n",
    "\\end{equation}\n",
    "\n",
    "Usaremos una matriz matriz M de dimensión 3×3 como ejemplo concreto donde estaran los valores 𝜆, 𝑣,  𝜔 y los valores de A\n",
    "\n",
    "\\begin{equation}\n",
    "M =\n",
    "\\begin{bmatrix}\n",
    "\\lambda & w_1 & w_2 \\\\\n",
    "v_1 & a_11 & a_12 \\\\\n",
    "v_2 & a_21 & a_22 \\\\\n",
    "\\end{bmatrix}\n",
    "\\end{equation}\n",
    "\n",
    "### Paso 1: Expansión por Cofactores\n",
    "\n",
    "Para calcular el determinante de M, vamos a usar cofactores. Esto significa que vamos a descomponer el determinante de la matriz grande en términos de los determinantes de matrices más pequeñas.\n",
    "\n",
    "\\begin{equation}\n",
    "det(M) =\n",
    "\\lambda \\cdot\n",
    "\\begin{bmatrix}\n",
    "a_11 & a_12 \\\\\n",
    "a_21 & a_22 \\\\\n",
    "\\end{bmatrix}\n",
    "-\n",
    "\n",
    "\\left(\n",
    "w_1 \\cdot\n",
    "\\begin{bmatrix}\n",
    "v_1 & a_12 \\\\\n",
    "v_2 & a_22 \\\\\n",
    "\\end{bmatrix}\n",
    "+\n",
    "w_2 \\cdot \n",
    "\\begin{bmatrix}\n",
    "v_1 & a_11 \\\\\n",
    "v_2 & a_21 \\\\\n",
    "\\end{bmatrix}\n",
    "\\rigth)\n",
    "\\end{equation}\n",
    "\n",
    "Si simplificamos la ecuacion tendriamos que: \n",
    "\n",
    "\n",
    "\\begin{equation}\n",
    "det(M) =\n",
    "\\lambda \\cdot\n",
    "det(A)\n",
    "-\n",
    "w_1 \\cdot\n",
    "\\begin{bmatrix}\n",
    "v_1 & a_12 \\\\\n",
    "v_2 & a_22 \\\\\n",
    "\\end{bmatrix}\n",
    "+\n",
    "w_2 \\cdot \n",
    "\\begin{bmatrix}\n",
    "v_1 & a_11 \\\\\n",
    "v_2 & a_21 \\\\\n",
    "\\end{bmatrix}\n",
    "\\end{equation}"
   ]
  },
  {
   "cell_type": "markdown",
   "id": "92f6e924",
   "metadata": {},
   "source": [
    "\n",
    "#### 3. Implementar en Python la definición así obtenida."
   ]
  },
  {
   "cell_type": "code",
   "execution_count": null,
   "id": "22078cac",
   "metadata": {},
   "outputs": [],
   "source": []
  },
  {
   "cell_type": "markdown",
   "id": "f2f7deca-8d93-4036-a905-cda79ebb6b31",
   "metadata": {},
   "source": [
    "### Ejercicio 2 (2 puntos). Eliminación de Gauss–Jordan.\n",
    "#### 1. Deducir de la definición 4 el efecto que tiene en el determinante de una matriz sumar a una de sus columnas una combinación lineal de las demás.\n"
   ]
  },
  {
   "cell_type": "markdown",
   "id": "949a90da",
   "metadata": {},
   "source": []
  },
  {
   "cell_type": "markdown",
   "id": "58aa2705",
   "metadata": {},
   "source": [
    "#### 2. A partir de la definición 4, proponer una estrategia para triangularizar una matriz sin cambiar su determinante e implementar en Python una definición alternativa del determinante. Indicación: descomponer similarmente al ejercicio anterior.\n"
   ]
  },
  {
   "cell_type": "markdown",
   "id": "9748d4d0",
   "metadata": {},
   "source": []
  },
  {
   "cell_type": "markdown",
   "id": "22422c07",
   "metadata": {},
   "source": [
    "#### 3. implementar en Python la definición así obtenida"
   ]
  },
  {
   "cell_type": "code",
   "execution_count": null,
   "id": "93d56de6",
   "metadata": {},
   "outputs": [],
   "source": []
  },
  {
   "cell_type": "markdown",
   "id": "dc7643d4-95b2-4289-ab7e-4d2d534592a2",
   "metadata": {},
   "source": [
    "### Ejercicio 3 (2 puntos). Comparación.\n",
    "#### 1. Obtener la complejidad computacional de cada una de estas dos implementaciones.\n"
   ]
  },
  {
   "cell_type": "markdown",
   "id": "75ca5605",
   "metadata": {},
   "source": []
  },
  {
   "cell_type": "markdown",
   "id": "9b59f4e8",
   "metadata": {},
   "source": [
    "#### 2. Generar matrices aleatoriamente en dimensión 𝑛 ∈ { 2, 3, · · · , 9, 10 } y comparar el tiempo de ejecución de cada una de estas dos implementaciones con la función numpy.linalg.det (la función determinante de la extensión numérica de Python al álgebra lineal). Indicación: se puede utilizar la función numpy.random.rand para generar los coeficientes aleatorios de sus matrices."
   ]
  },
  {
   "cell_type": "markdown",
   "id": "4d7ae3cb",
   "metadata": {},
   "source": []
  },
  {
   "cell_type": "markdown",
   "id": "b3013c92-f03e-44a3-a2ea-7489b696370c",
   "metadata": {},
   "source": [
    "## 2. Ejercicio acerca del gradiente\n",
    "### Ejercicio 4 (4 puntos). \n",
    "Con el propósito de aproximar un mínimo local de una función real de varias variables reales, el método de descenso de gradiente consiste en iterar una marcha (positivamente) proporcional al (opuesto del) gradiente desde un valor inicial, con la intuición de ‘seguir el agua’ hasta dar con el valle.\n",
    "#### 1. Implementar en Python un algoritmo de descenso de gradiente (con un máximo de m = 10**5 iteraciones) a partir de los siguientes argumentos tomados en ese orden:\n",
    "- la función f cuyo mínimo local se propone aproximar,\n",
    "- el valor inicial x desde el que empieza la marcha,\n",
    "- la razón geométrica o coeficiente de proporcionalidad y,\n",
    "- el parámetro de tolerancia z para finalizar cuando el gradiente de la función f caiga dentro de esa tolerancia.\n",
    "Indicación: empezar por implementar el gradiente grad(f) de la función f.\n"
   ]
  },
  {
   "cell_type": "code",
   "execution_count": null,
   "id": "636b1419",
   "metadata": {},
   "outputs": [],
   "source": []
  },
  {
   "cell_type": "markdown",
   "id": "f6555a38",
   "metadata": {},
   "source": [
    "#### 2. Calcular formalmente { 𝑡 ∈ R. 𝑓 ′(𝑡) = 0 } para 𝑓 : 𝑡 ↦ → 3𝑡4+4𝑡3−12𝑡2+7.\n"
   ]
  },
  {
   "cell_type": "markdown",
   "id": "58881a7c",
   "metadata": {},
   "source": []
  },
  {
   "cell_type": "markdown",
   "id": "ef1a6cf4",
   "metadata": {},
   "source": [
    "#### 3. Con una tolerancia z = 10**-12 y un valor inicial de x = 3 aplicar su algoritmo con razón y = 10**-1, 10**-2, 10**-3 luego hacer lo mismo con x = 0. Interpretar el resultado.\n"
   ]
  },
  {
   "cell_type": "markdown",
   "id": "bddec087",
   "metadata": {},
   "source": []
  },
  {
   "cell_type": "markdown",
   "id": "8974c535",
   "metadata": {},
   "source": [
    "#### 4. Repetir estos dos últimos apartados con 𝑓 : (𝑠, 𝑡) ↦ → 𝑠2 + 3𝑠𝑡 + 𝑡3 + 1 y los valores iniciales x = [-1,1], [0,0]."
   ]
  },
  {
   "cell_type": "code",
   "execution_count": null,
   "id": "66031210-1c75-4ff3-9f38-2df6a9285fd3",
   "metadata": {},
   "outputs": [],
   "source": []
  }
 ],
 "metadata": {
  "kernelspec": {
   "display_name": "Python 3 (ipykernel)",
   "language": "python",
   "name": "python3"
  },
  "language_info": {
   "codemirror_mode": {
    "name": "ipython",
    "version": 3
   },
   "file_extension": ".py",
   "mimetype": "text/x-python",
   "name": "python",
   "nbconvert_exporter": "python",
   "pygments_lexer": "ipython3",
   "version": "3.11.9"
  }
 },
 "nbformat": 4,
 "nbformat_minor": 5
}
