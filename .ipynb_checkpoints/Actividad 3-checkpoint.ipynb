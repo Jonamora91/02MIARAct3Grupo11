{
 "cells": [
  {
   "cell_type": "markdown",
   "id": "0df395d4-ea46-4f89-806e-6af7b195ea19",
   "metadata": {},
   "source": [
    "# Actividad  #3\n",
    "## 1. Ejercicios acerca del determinante\n",
    "### Ejercicio 1 (2 puntos). Desarrollo de Laplace.\n",
    "#### 1. Deducir de la definición 4 el determinante en dimensión 0, 1 y 2.\n",
    "#### 2. A partir de la definición 4, expresar el determinante de una matriz cuadrada recursivamente en función de determinantes la matrices cuadradas de dimensión inferior.\n",
    "Indicación: para cada 𝑛 ∈ N, distribuir (por linealidad en las columnas) sobre la descomposición\n",
    "\n",
    "\\begin{equation}\n",
    "\\begin{bmatrix}\n",
    "\\lambda & \\omega \\\\\n",
    "v & A\n",
    "\\end{bmatrix} = \\begin{bmatrix}\n",
    "\\lambda \\cdot 1 + 0 & \\omega \\\\\n",
    "\\lambda \\cdot 0 + v & A\n",
    "\\end{bmatrix}.\n",
    "\\end{equation}\n",
    "\n",
    "de una matriz cuadrada de dimensión 𝑛 + 1, siendo 𝑛 ∈ N y \n",
    "- 𝜆 un coeficiente real, \n",
    "- 𝑣 un vector de dimensión 𝑛 (una columna de 𝑛 coeficientes reales), \n",
    "- 𝜔 un covector de la misma dimensión (una fila de 𝑛 coeficientes), \n",
    "- 𝐴 una matriz cuadrada de la misma dimensión (con 𝑛2 coeficientes),\n",
    "\n",
    "  \n",
    "luego proceder del mismo modo con \n",
    "- los demás coeficientes de esa primera columna, \n",
    "- con cada columna.\n",
    "\n",
    "#### 3. Implementar en Python la definición así obtenida."
   ]
  },
  {
   "cell_type": "code",
   "execution_count": null,
   "id": "0806c0a6-e3cb-4fa2-aea8-226181f91b9e",
   "metadata": {},
   "outputs": [],
   "source": []
  },
  {
   "cell_type": "markdown",
   "id": "f2f7deca-8d93-4036-a905-cda79ebb6b31",
   "metadata": {},
   "source": [
    "### Ejercicio 2 (2 puntos). Eliminación de Gauss–Jordan.\n",
    "#### 1. Deducir de la definición 4 el efecto que tiene en el determinante de una matriz sumar a una de sus columnas una combinación lineal de las demás.\n",
    "#### 2. A partir de la definición 4, proponer una estrategia para triangularizar una matriz sin cambiar su determinante e implementar en Python una definición alternativa del determinante. Indicación: descomponer similarmente al ejercicio anterior.\n",
    "#### 3. implementar en Python la definición así obtenida"
   ]
  },
  {
   "cell_type": "markdown",
   "id": "dc7643d4-95b2-4289-ab7e-4d2d534592a2",
   "metadata": {},
   "source": [
    "### Ejercicio 3 (2 puntos). Comparación.\n",
    "#### 1. Obtener la complejidad computacional de cada una de estas dos implementaciones.\n",
    "#### 2. Generar matrices aleatoriamente en dimensión 𝑛 ∈ { 2, 3, · · · , 9, 10 } y comparar el tiempo de ejecución de cada una de estas dos implementaciones con la función numpy.linalg.det (la función determinante de la extensión numérica de Python al álgebra lineal). Indicación: se puede utilizar la función numpy.random.rand para generar los coeficientes aleatorios de sus matrices."
   ]
  },
  {
   "cell_type": "markdown",
   "id": "b3013c92-f03e-44a3-a2ea-7489b696370c",
   "metadata": {},
   "source": [
    "## 2. Ejercicio acerca del gradiente\n",
    "### Ejercicio 4 (4 puntos). \n",
    "Con el propósito de aproximar un mínimo local de una función real de varias variables reales, el método de descenso de gradiente consiste en iterar una marcha (positivamente) proporcional al (opuesto del) gradiente desde un valor inicial, con la intuición de ‘seguir el agua’ hasta dar con el valle.\n",
    "#### 1. Implementar en Python un algoritmo de descenso de gradiente (con un máximo de m = 10**5 iteraciones) a partir de los siguientes argumentos tomados en ese orden:\n",
    "- la función f cuyo mínimo local se propone aproximar,\n",
    "- el valor inicial x desde el que empieza la marcha,\n",
    "- la razón geométrica o coeficiente de proporcionalidad y,\n",
    "- el parámetro de tolerancia z para finalizar cuando el gradiente de la función f caiga dentro de esa tolerancia.\n",
    "Indicación: empezar por implementar el gradiente grad(f) de la función f.\n",
    "#### 2. Calcular formalmente { 𝑡 ∈ R. 𝑓 ′(𝑡) = 0 } para 𝑓 : 𝑡 ↦ → 3𝑡4+4𝑡3−12𝑡2+7.\n",
    "#### 3. Con una tolerancia z = 10**-12 y un valor inicial de x = 3 aplicar su algoritmo con razón y = 10**-1, 10**-2, 10**-3 luego hacer lo mismo con x = 0. Interpretar el resultado.\n",
    "4. Repetir estos dos últimos apartados con 𝑓 : (𝑠, 𝑡) ↦ → 𝑠2 + 3𝑠𝑡 + 𝑡3 + 1 y los valores iniciales x = [-1,1], [0,0]."
   ]
  },
  {
   "cell_type": "code",
   "execution_count": null,
   "id": "66031210-1c75-4ff3-9f38-2df6a9285fd3",
   "metadata": {},
   "outputs": [],
   "source": []
  }
 ],
 "metadata": {
  "kernelspec": {
   "display_name": "Python 3 (ipykernel)",
   "language": "python",
   "name": "python3"
  },
  "language_info": {
   "codemirror_mode": {
    "name": "ipython",
    "version": 3
   },
   "file_extension": ".py",
   "mimetype": "text/x-python",
   "name": "python",
   "nbconvert_exporter": "python",
   "pygments_lexer": "ipython3",
   "version": "3.11.9"
  }
 },
 "nbformat": 4,
 "nbformat_minor": 5
}
